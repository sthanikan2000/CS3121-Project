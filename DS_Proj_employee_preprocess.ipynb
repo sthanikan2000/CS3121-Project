{
  "nbformat": 4,
  "nbformat_minor": 0,
  "metadata": {
    "colab": {
      "provenance": [],
      "collapsed_sections": [
        "iGvBFPYXEpki",
        "EDv4-TsmBwPs",
        "p6gryZIMCRWc",
        "m59lmzOlCyzE",
        "PeL__tYBkF5Z",
        "anpG3zFbnJem",
        "6QVlcs7-wSZE",
        "BiM7F8Iowq1I",
        "IatR3RdJ2f5e",
        "8SZGQ1SQ5YfH",
        "DbKq-r6P5xZq"
      ],
      "authorship_tag": "ABX9TyN9bnzWYgbtk+h+k97lvl7R",
      "include_colab_link": true
    },
    "kernelspec": {
      "name": "python3",
      "display_name": "Python 3"
    },
    "language_info": {
      "name": "python"
    }
  },
  "cells": [
    {
      "cell_type": "markdown",
      "metadata": {
        "id": "view-in-github",
        "colab_type": "text"
      },
      "source": [
        "<a href=\"https://colab.research.google.com/github/sthanikan2000/CS3121-Project/blob/main/DS_Proj_employee_preprocess.ipynb\" target=\"_parent\"><img src=\"https://colab.research.google.com/assets/colab-badge.svg\" alt=\"Open In Colab\"/></a>"
      ]
    },
    {
      "cell_type": "code",
      "execution_count": 1,
      "metadata": {
        "id": "bN73X5Gnn6Ay"
      },
      "outputs": [],
      "source": [
        "import numpy as np\n",
        "import pandas as pd\n",
        "\n",
        "from sklearn.preprocessing import LabelEncoder\n",
        "\n",
        "from sklearn.ensemble import RandomForestRegressor\n",
        "from sklearn.ensemble import RandomForestClassifier\n",
        "\n",
        "from sklearn.model_selection import GridSearchCV, train_test_split\n",
        "\n",
        "from scipy.stats import pointbiserialr\n",
        "from scipy.stats import spearmanr\n",
        "from scipy.stats import chi2_contingency\n",
        "\n",
        "import seaborn as sns\n",
        "import matplotlib.pyplot as plt\n"
      ]
    },
    {
      "cell_type": "code",
      "source": [
        "# Read the CSV file into a DataFrame\n",
        "emp = pd.read_csv('employees.csv')"
      ],
      "metadata": {
        "id": "tk0Fi2WHoSm8"
      },
      "execution_count": 2,
      "outputs": []
    },
    {
      "cell_type": "code",
      "source": [
        "emp.info()"
      ],
      "metadata": {
        "id": "UEhIfzpVl1KG",
        "colab": {
          "base_uri": "https://localhost:8080/"
        },
        "outputId": "a3fb0000-51af-490a-e37b-f34e4d8d6303"
      },
      "execution_count": 3,
      "outputs": [
        {
          "output_type": "stream",
          "name": "stdout",
          "text": [
            "<class 'pandas.core.frame.DataFrame'>\n",
            "RangeIndex: 997 entries, 0 to 996\n",
            "Data columns (total 19 columns):\n",
            " #   Column               Non-Null Count  Dtype \n",
            "---  ------               --------------  ----- \n",
            " 0   Employee_No          997 non-null    int64 \n",
            " 1   Employee_Code        997 non-null    int64 \n",
            " 2   Name                 997 non-null    object\n",
            " 3   Title                997 non-null    object\n",
            " 4   Gender               997 non-null    object\n",
            " 5   Religion_ID          997 non-null    int64 \n",
            " 6   Marital_Status       930 non-null    object\n",
            " 7   Designation_ID       997 non-null    int64 \n",
            " 8   Date_Joined          997 non-null    object\n",
            " 9   Date_Resigned        997 non-null    object\n",
            " 10  Status               997 non-null    object\n",
            " 11  Inactive_Date        997 non-null    object\n",
            " 12  Reporting_emp_1      997 non-null    object\n",
            " 13  Reporting_emp_2      997 non-null    object\n",
            " 14  Employment_Category  997 non-null    object\n",
            " 15  Employment_Type      997 non-null    object\n",
            " 16  Religion             997 non-null    object\n",
            " 17  Designation          997 non-null    object\n",
            " 18  Year_of_Birth        997 non-null    object\n",
            "dtypes: int64(4), object(15)\n",
            "memory usage: 148.1+ KB\n"
          ]
        }
      ]
    },
    {
      "cell_type": "markdown",
      "source": [
        "## ***Pre-processing tasks carried out before imputing missing values***"
      ],
      "metadata": {
        "id": "iGvBFPYXEpki"
      }
    },
    {
      "cell_type": "code",
      "source": [
        "# Replace \"0000\" with NaN in 'Year_of_Birth'\n",
        "emp['Year_of_Birth'] = emp['Year_of_Birth'].replace(\"'0000'\", '0000')\n",
        "emp['Year_of_Birth'] = emp['Year_of_Birth'].astype('int64')\n",
        "emp['Year_of_Birth'] = emp['Year_of_Birth'].replace(0, np.nan)"
      ],
      "metadata": {
        "id": "L5FfTio8oXIj"
      },
      "execution_count": 4,
      "outputs": []
    },
    {
      "cell_type": "code",
      "source": [
        "(emp[\"Status\"]==\"Inactive\").sum()"
      ],
      "metadata": {
        "colab": {
          "base_uri": "https://localhost:8080/"
        },
        "id": "g_8LNzWzXeAW",
        "outputId": "79ca5220-e6a5-4868-812e-4301cf3e6acb"
      },
      "execution_count": 5,
      "outputs": [
        {
          "output_type": "execute_result",
          "data": {
            "text/plain": [
              "764"
            ]
          },
          "metadata": {},
          "execution_count": 5
        }
      ]
    },
    {
      "cell_type": "code",
      "source": [
        "((emp['Status'] == 'Inactive') & (emp['Date_Resigned'].isin(['\\\\N', '0000-00-00']))).sum()"
      ],
      "metadata": {
        "colab": {
          "base_uri": "https://localhost:8080/"
        },
        "id": "92Uh3r6hmLP7",
        "outputId": "23735379-8fd8-41ba-98e4-9ee1ad2f2377"
      },
      "execution_count": 6,
      "outputs": [
        {
          "output_type": "execute_result",
          "data": {
            "text/plain": [
              "223"
            ]
          },
          "metadata": {},
          "execution_count": 6
        }
      ]
    },
    {
      "cell_type": "markdown",
      "source": [
        "223 null records when status is Inactive"
      ],
      "metadata": {
        "id": "OjA0eoDxJB5n"
      }
    },
    {
      "cell_type": "code",
      "source": [
        "((emp['Status'] == 'Inactive')&(emp['Inactive_Date'].isin(['\\\\N', '0000-00-00']))).sum()"
      ],
      "metadata": {
        "colab": {
          "base_uri": "https://localhost:8080/"
        },
        "id": "Uxk571BaWtoA",
        "outputId": "834c5df7-e74f-43c3-f099-8dd2c17f3216"
      },
      "execution_count": 7,
      "outputs": [
        {
          "output_type": "execute_result",
          "data": {
            "text/plain": [
              "0"
            ]
          },
          "metadata": {},
          "execution_count": 7
        }
      ]
    },
    {
      "cell_type": "markdown",
      "source": [
        "So, there is no null records for Inactive_Date when status is Inactive"
      ],
      "metadata": {
        "id": "ZixZpWfOHl1Z"
      }
    },
    {
      "cell_type": "code",
      "source": [
        "(((~emp['Inactive_Date'].isin(['\\\\N', '0000-00-00']))&( emp['Inactive_Date']!=emp['Date_Resigned']))&(~emp['Date_Resigned'].isin(['\\\\N', '0000-00-00']))).sum()"
      ],
      "metadata": {
        "colab": {
          "base_uri": "https://localhost:8080/"
        },
        "id": "FZ8IxMt5ZTFk",
        "outputId": "575676f0-1224-4617-86b5-aa549ded8a3c"
      },
      "execution_count": 8,
      "outputs": [
        {
          "output_type": "execute_result",
          "data": {
            "text/plain": [
              "6"
            ]
          },
          "metadata": {},
          "execution_count": 8
        }
      ]
    },
    {
      "cell_type": "markdown",
      "source": [
        "Which means only 6 records are having different dates for Inactive_Date and Date_Resigned.\n",
        "\n",
        "**So we can impute the Date_Resigned = Inactive_Date as follows:**"
      ],
      "metadata": {
        "id": "mpo98v4uIcux"
      }
    },
    {
      "cell_type": "code",
      "source": [
        "# Impute Date_resigned\n",
        "mask = (emp['Status'] == 'Inactive') & (emp['Date_Resigned'].isin(['\\\\N', '0000-00-00'])) & (~emp['Inactive_Date'].isin(['\\\\N', '0000-00-00']))\n",
        "emp.loc[mask, 'Date_Resigned'] = emp.loc[mask, 'Inactive_Date']\n",
        "\n",
        "# Replace '\\\\N' and '0000-00-00' with NaN\n",
        "emp['Date_Resigned'].replace(['\\\\N', '0000-00-00'], np.nan, inplace=True)\n",
        "emp['Inactive_Date'].replace(['\\\\N', '0000-00-00'], np.nan, inplace=True)\n",
        "emp['Reporting_emp_1'].replace(['\\\\N'], np.nan, inplace=True)\n",
        "emp['Reporting_emp_2'].replace(['\\\\N'], np.nan, inplace=True)\n"
      ],
      "metadata": {
        "id": "TgMG0JBeu0iU"
      },
      "execution_count": 9,
      "outputs": []
    },
    {
      "cell_type": "code",
      "source": [
        "mask = (emp[\"Gender\"]==\"Female\")&(emp[\"Title\"]==\"Mr\")\n",
        "\n",
        "# Since \"Ms\" is a title used for addressing a woman without specifying her marital status. It can be used for both married and unmarried women.\n",
        "emp.loc[mask, \"Title\"] = \"Ms\""
      ],
      "metadata": {
        "id": "5S-aQTAc2iHw"
      },
      "execution_count": 10,
      "outputs": []
    },
    {
      "cell_type": "code",
      "source": [
        "mask = (emp[\"Gender\"]==\"Male\")&(emp[\"Title\"].isin([\"Ms\",\"Miss\"]))\n",
        "\n",
        "# Since \"Mr\" is a title used for addressing a man without specifying his marital status. It can be used for both married and unmarried men.\n",
        "emp.loc[mask, \"Title\"] = \"Mr\""
      ],
      "metadata": {
        "id": "kFGxoFBnLbNN"
      },
      "execution_count": 11,
      "outputs": []
    },
    {
      "cell_type": "code",
      "source": [
        "mask = (emp[\"Title\"].isin([\"Miss\"]))&(emp[\"Marital_Status\"]==\"Married\")\n",
        "emp.loc[mask, \"Marital_Status\"] = \"Single\""
      ],
      "metadata": {
        "id": "gWaXAVNr5TVV"
      },
      "execution_count": 12,
      "outputs": []
    },
    {
      "cell_type": "code",
      "source": [
        "# Parse columns to datetime format to get all  date times in same format\n",
        "for i in [\"Date_Joined\",\"Date_Resigned\",\"Inactive_Date\"]:\n",
        "  emp[i] = pd.to_datetime(emp[i])"
      ],
      "metadata": {
        "id": "kx8YKtTE6ckB"
      },
      "execution_count": 13,
      "outputs": []
    },
    {
      "cell_type": "code",
      "source": [
        "emp.info()"
      ],
      "metadata": {
        "colab": {
          "base_uri": "https://localhost:8080/"
        },
        "id": "hUbEJj1OyB_M",
        "outputId": "3e7bb4a6-f6af-45d1-8cbd-c9ab9b97e3fa"
      },
      "execution_count": 14,
      "outputs": [
        {
          "output_type": "stream",
          "name": "stdout",
          "text": [
            "<class 'pandas.core.frame.DataFrame'>\n",
            "RangeIndex: 997 entries, 0 to 996\n",
            "Data columns (total 19 columns):\n",
            " #   Column               Non-Null Count  Dtype         \n",
            "---  ------               --------------  -----         \n",
            " 0   Employee_No          997 non-null    int64         \n",
            " 1   Employee_Code        997 non-null    int64         \n",
            " 2   Name                 997 non-null    object        \n",
            " 3   Title                997 non-null    object        \n",
            " 4   Gender               997 non-null    object        \n",
            " 5   Religion_ID          997 non-null    int64         \n",
            " 6   Marital_Status       930 non-null    object        \n",
            " 7   Designation_ID       997 non-null    int64         \n",
            " 8   Date_Joined          997 non-null    datetime64[ns]\n",
            " 9   Date_Resigned        764 non-null    datetime64[ns]\n",
            " 10  Status               997 non-null    object        \n",
            " 11  Inactive_Date        764 non-null    datetime64[ns]\n",
            " 12  Reporting_emp_1      61 non-null     object        \n",
            " 13  Reporting_emp_2      0 non-null      float64       \n",
            " 14  Employment_Category  997 non-null    object        \n",
            " 15  Employment_Type      997 non-null    object        \n",
            " 16  Religion             997 non-null    object        \n",
            " 17  Designation          997 non-null    object        \n",
            " 18  Year_of_Birth        894 non-null    float64       \n",
            "dtypes: datetime64[ns](3), float64(2), int64(4), object(10)\n",
            "memory usage: 148.1+ KB\n"
          ]
        }
      ]
    },
    {
      "cell_type": "markdown",
      "source": [
        "\"Reporting_emp_1\" and \"Reporting_emp_2\" are with too much of null values."
      ],
      "metadata": {
        "id": "sGHNkKE5AjLd"
      }
    },
    {
      "cell_type": "code",
      "source": [
        "emp.nunique()"
      ],
      "metadata": {
        "colab": {
          "base_uri": "https://localhost:8080/"
        },
        "id": "N0y-8bvqxW_u",
        "outputId": "904d9c0f-d1f1-4116-a8a0-7945c98b9deb"
      },
      "execution_count": 15,
      "outputs": [
        {
          "output_type": "execute_result",
          "data": {
            "text/plain": [
              "Employee_No            997\n",
              "Employee_Code          997\n",
              "Name                   997\n",
              "Title                    3\n",
              "Gender                   2\n",
              "Religion_ID              4\n",
              "Marital_Status           2\n",
              "Designation_ID         129\n",
              "Date_Joined            549\n",
              "Date_Resigned          350\n",
              "Status                   2\n",
              "Inactive_Date          350\n",
              "Reporting_emp_1         23\n",
              "Reporting_emp_2          0\n",
              "Employment_Category      3\n",
              "Employment_Type          2\n",
              "Religion                 4\n",
              "Designation            129\n",
              "Year_of_Birth           59\n",
              "dtype: int64"
            ]
          },
          "metadata": {},
          "execution_count": 15
        }
      ]
    },
    {
      "cell_type": "code",
      "source": [
        "correlation, p_value = spearmanr(emp['Employee_No'], emp['Employee_Code'])\n",
        "print(correlation,p_value)"
      ],
      "metadata": {
        "colab": {
          "base_uri": "https://localhost:8080/"
        },
        "id": "MWFPPagOIgIY",
        "outputId": "6164d79b-73ab-46dc-a66c-ecac355d0a01"
      },
      "execution_count": 16,
      "outputs": [
        {
          "output_type": "stream",
          "name": "stdout",
          "text": [
            "0.7602284241235672 1.3854939188613603e-188\n"
          ]
        }
      ]
    },
    {
      "cell_type": "code",
      "source": [
        "df_sorted = emp.sort_values('Employee_No', ascending=True)\n",
        "df_sorted['Employee_Code'].is_monotonic_increasing"
      ],
      "metadata": {
        "colab": {
          "base_uri": "https://localhost:8080/"
        },
        "id": "rScQXWUoJEcU",
        "outputId": "7fcf2e57-1d06-4a84-9ac1-525ad871e562"
      },
      "execution_count": 17,
      "outputs": [
        {
          "output_type": "execute_result",
          "data": {
            "text/plain": [
              "False"
            ]
          },
          "metadata": {},
          "execution_count": 17
        }
      ]
    },
    {
      "cell_type": "markdown",
      "source": [
        "**Why the above are not return p-value as exactly 0?**\n",
        "\n",
        "Because Employee_Code doesn't have any monotonic relationship with Employee_No. So, Employee_Code is not ordinal."
      ],
      "metadata": {
        "id": "c47lnoiDEuL2"
      }
    },
    {
      "cell_type": "code",
      "source": [
        "observed = pd.crosstab(emp['Religion'], emp['Religion_ID'])\n",
        "# print(observed) # Prints the contigency table\n",
        "# Perform chi-square test\n",
        "chi2, p_value, _, _ = chi2_contingency(observed)\n",
        "print(\"\\nChi-square test between Religion and Religion_ID\")\n",
        "print(\"Chi-square statistic:\", chi2)\n",
        "print(\"P-value:\", p_value)\n",
        "\n",
        "observed = pd.crosstab(emp['Designation'], emp['Designation_ID'])\n",
        "# print(observed) # Prints the contigency table\n",
        "# Perform chi-square test\n",
        "chi2, p_value, _, _ = chi2_contingency(observed)\n",
        "print(\"\\nChi-square test between Designation and Designation_ID\")\n",
        "print(\"Chi-square statistic:\", chi2)\n",
        "print(\"P-value:\", p_value)"
      ],
      "metadata": {
        "colab": {
          "base_uri": "https://localhost:8080/"
        },
        "id": "j6-ICpWx98gg",
        "outputId": "0a8299eb-0a7c-4228-e5d0-c6e32d2b036d"
      },
      "execution_count": 18,
      "outputs": [
        {
          "output_type": "stream",
          "name": "stdout",
          "text": [
            "\n",
            "Chi-square test between Religion and Religion_ID\n",
            "Chi-square statistic: 2991.0\n",
            "P-value: 0.0\n",
            "\n",
            "Chi-square test between Designation and Designation_ID\n",
            "Chi-square statistic: 127616.00000000001\n",
            "P-value: 0.0\n"
          ]
        }
      ]
    },
    {
      "cell_type": "markdown",
      "source": [
        "In the above result p-value is exactly 0 for both which means they are correlated with each other. So, having one out of two variable in our dataset is sufficient."
      ],
      "metadata": {
        "id": "KNuDxKyB_yo0"
      }
    },
    {
      "cell_type": "code",
      "source": [
        "# we are not using \"Employee_Code\", \"Name\", and Inactive_Date for futher analysis.\n",
        "emp.drop([\"Employee_Code\",\"Name\",\"Reporting_emp_1\",\"Reporting_emp_2\",\"Religion_ID\",\"Designation_ID\",\"Inactive_Date\"], axis=1, inplace=True)"
      ],
      "metadata": {
        "id": "NWDlVCUzAFO2"
      },
      "execution_count": 19,
      "outputs": []
    },
    {
      "cell_type": "code",
      "source": [
        "df1=pd.read_csv(\"attendance_preprocessed_200635E.csv\")\n",
        "df2=pd.read_csv(\"leaves_preprocessed_200635E.csv\")\n",
        "df3=pd.read_csv(\"salary_preprocessed_200635E.csv\")"
      ],
      "metadata": {
        "id": "ptEIAeNMJw16"
      },
      "execution_count": 20,
      "outputs": []
    },
    {
      "cell_type": "code",
      "source": [
        "merged_df = pd.merge(emp, df1, on='Employee_No', how='left')\n",
        "print(merged_df.shape)\n",
        "merged_df = pd.merge(merged_df, df2, on='Employee_No', how='left')\n",
        "print(merged_df.shape)\n",
        "merged_df = pd.merge(merged_df, df3, on='Employee_No', how='left')\n",
        "merged_df.info()"
      ],
      "metadata": {
        "colab": {
          "base_uri": "https://localhost:8080/"
        },
        "id": "bk4vjH95KewI",
        "outputId": "bd8a5828-f8e9-4082-c386-88c2eae3bdd0"
      },
      "execution_count": 21,
      "outputs": [
        {
          "output_type": "stream",
          "name": "stdout",
          "text": [
            "(997, 14)\n",
            "(997, 18)\n",
            "<class 'pandas.core.frame.DataFrame'>\n",
            "Int64Index: 997 entries, 0 to 996\n",
            "Data columns (total 20 columns):\n",
            " #   Column               Non-Null Count  Dtype         \n",
            "---  ------               --------------  -----         \n",
            " 0   Employee_No          997 non-null    int64         \n",
            " 1   Title                997 non-null    object        \n",
            " 2   Gender               997 non-null    object        \n",
            " 3   Marital_Status       930 non-null    object        \n",
            " 4   Date_Joined          997 non-null    datetime64[ns]\n",
            " 5   Date_Resigned        764 non-null    datetime64[ns]\n",
            " 6   Status               997 non-null    object        \n",
            " 7   Employment_Category  997 non-null    object        \n",
            " 8   Employment_Type      997 non-null    object        \n",
            " 9   Religion             997 non-null    object        \n",
            " 10  Designation          997 non-null    object        \n",
            " 11  Year_of_Birth        894 non-null    float64       \n",
            " 12  Hourly_Time          742 non-null    float64       \n",
            " 13  Late_minutes         742 non-null    float64       \n",
            " 14  Type_Full Day        57 non-null     float64       \n",
            " 15  Type_Half Day        57 non-null     float64       \n",
            " 16  apply_type_Anual     57 non-null     float64       \n",
            " 17  apply_type_Casual    57 non-null     float64       \n",
            " 18  Earnings             719 non-null    float64       \n",
            " 19  Total Fixed          719 non-null    float64       \n",
            "dtypes: datetime64[ns](2), float64(9), int64(1), object(8)\n",
            "memory usage: 163.6+ KB\n"
          ]
        }
      ]
    },
    {
      "cell_type": "code",
      "source": [
        "merged_df['Year_Joined'] = merged_df['Date_Joined'].dt.year"
      ],
      "metadata": {
        "id": "zrVu9lmYwj-s"
      },
      "execution_count": 22,
      "outputs": []
    },
    {
      "cell_type": "markdown",
      "source": [
        "## ***Finding the variables having high association with the Marital_Status***"
      ],
      "metadata": {
        "id": "EDv4-TsmBwPs"
      }
    },
    {
      "cell_type": "code",
      "source": [
        "non_null_marital_status=merged_df[~(merged_df[\"Marital_Status\"].isnull())].copy()\n",
        "non_null_marital_status.shape"
      ],
      "metadata": {
        "colab": {
          "base_uri": "https://localhost:8080/"
        },
        "id": "wRtE7dVxp9j7",
        "outputId": "d243f591-4ccc-4b3d-b1ec-9e93774c4b67"
      },
      "execution_count": 23,
      "outputs": [
        {
          "output_type": "execute_result",
          "data": {
            "text/plain": [
              "(930, 21)"
            ]
          },
          "metadata": {},
          "execution_count": 23
        }
      ]
    },
    {
      "cell_type": "code",
      "source": [
        "non_null_marital_status.columns"
      ],
      "metadata": {
        "colab": {
          "base_uri": "https://localhost:8080/"
        },
        "id": "hG1cR6QorRyH",
        "outputId": "176ae6d6-5a3c-4f47-bf5b-83e3299f660f"
      },
      "execution_count": 24,
      "outputs": [
        {
          "output_type": "execute_result",
          "data": {
            "text/plain": [
              "Index(['Employee_No', 'Title', 'Gender', 'Marital_Status', 'Date_Joined',\n",
              "       'Date_Resigned', 'Status', 'Employment_Category', 'Employment_Type',\n",
              "       'Religion', 'Designation', 'Year_of_Birth', 'Hourly_Time',\n",
              "       'Late_minutes', 'Type_Full Day', 'Type_Half Day', 'apply_type_Anual',\n",
              "       'apply_type_Casual', 'Earnings', 'Total Fixed', 'Year_Joined'],\n",
              "      dtype='object')"
            ]
          },
          "metadata": {},
          "execution_count": 24
        }
      ]
    },
    {
      "cell_type": "code",
      "source": [
        "for var in ['Title', 'Gender','Status', 'Employment_Category', 'Employment_Type','Religion', 'Designation']:\n",
        "  contingency_table = pd.crosstab(non_null_marital_status[var], non_null_marital_status['Marital_Status'])\n",
        "  chi2, p_value, dof, expected = chi2_contingency(contingency_table)\n",
        "  print(\"\\nChi-square test between %s and Marital_Status\"%(var))\n",
        "  print(\"Chi-square test statistic:\", chi2)\n",
        "  print(\"p-value:\", p_value)\n",
        "  # print(\"Degrees of freedom:\", dof)\n",
        "  # print(\"Expected frequencies table:\")\n",
        "  # print(expected)\n"
      ],
      "metadata": {
        "colab": {
          "base_uri": "https://localhost:8080/"
        },
        "id": "umeYjdElqfOt",
        "outputId": "047dffc5-03f4-4554-bc82-f9a9f8872c4b"
      },
      "execution_count": 25,
      "outputs": [
        {
          "output_type": "stream",
          "name": "stdout",
          "text": [
            "\n",
            "Chi-square test between Title and Marital_Status\n",
            "Chi-square test statistic: 29.943033220501565\n",
            "p-value: 3.14740731935932e-07\n",
            "\n",
            "Chi-square test between Gender and Marital_Status\n",
            "Chi-square test statistic: 24.624015122960706\n",
            "p-value: 6.967796901622455e-07\n",
            "\n",
            "Chi-square test between Status and Marital_Status\n",
            "Chi-square test statistic: 2.6547135877875405\n",
            "p-value: 0.10324335137681154\n",
            "\n",
            "Chi-square test between Employment_Category and Marital_Status\n",
            "Chi-square test statistic: 44.40298087091607\n",
            "p-value: 2.280421956497292e-10\n",
            "\n",
            "Chi-square test between Employment_Type and Marital_Status\n",
            "Chi-square test statistic: 4.238995183058099\n",
            "p-value: 0.03950554164963643\n",
            "\n",
            "Chi-square test between Religion and Marital_Status\n",
            "Chi-square test statistic: 15.364680489631626\n",
            "p-value: 0.0015300937613123434\n",
            "\n",
            "Chi-square test between Designation and Marital_Status\n",
            "Chi-square test statistic: 253.78700731117002\n",
            "p-value: 2.815823412279475e-11\n"
          ]
        }
      ]
    },
    {
      "cell_type": "code",
      "source": [
        "non_null_marital_status['Marital_Status_Encoded'] = non_null_marital_status['Marital_Status'].map({'Single': 0, 'Married': 1})\n",
        "for var in [\"Year_Joined\"]:\n",
        "  correlation, p_value = pointbiserialr(non_null_marital_status[var], non_null_marital_status['Marital_Status_Encoded'])\n",
        "  print(\"\\nPoint-biserial correlation coefficient between %s and Marital_Status\"%(var))\n",
        "  print(\"correlation coefficient:\", correlation)\n",
        "  print(\"p-value:\", p_value)\n",
        "\n",
        "temp=non_null_marital_status[~non_null_marital_status[\"Year_of_Birth\"].isnull()].copy()\n",
        "var=\"Year_of_Birth\"\n",
        "correlation, p_value = pointbiserialr(temp[var], temp['Marital_Status_Encoded'])\n",
        "print(\"\\nPoint-biserial correlation coefficient between %s and Marital_Status\"%(var))\n",
        "print(\"correlation coefficient:\", correlation)\n",
        "print(\"p-value:\", p_value)"
      ],
      "metadata": {
        "colab": {
          "base_uri": "https://localhost:8080/"
        },
        "id": "6pxl4acQwOyo",
        "outputId": "9a6edfe3-c122-41de-f0d3-68277f1ea1e8"
      },
      "execution_count": 26,
      "outputs": [
        {
          "output_type": "stream",
          "name": "stdout",
          "text": [
            "\n",
            "Point-biserial correlation coefficient between Year_Joined and Marital_Status\n",
            "correlation coefficient: -0.059639131224388964\n",
            "p-value: 0.06907615799811134\n",
            "\n",
            "Point-biserial correlation coefficient between Year_of_Birth and Marital_Status\n",
            "correlation coefficient: -0.6093927990422292\n",
            "p-value: 3.883410430036145e-86\n"
          ]
        }
      ]
    },
    {
      "cell_type": "code",
      "source": [
        "mask1=merged_df[\"Hourly_Time\"].isnull() | merged_df[\"Marital_Status\"].isnull()\n",
        "mask2=merged_df[\"Type_Full Day\"].isnull() | merged_df[\"Marital_Status\"].isnull()\n",
        "mask3=merged_df[\"Earnings\"].isnull()| merged_df[\"Marital_Status\"].isnull()"
      ],
      "metadata": {
        "id": "HuvuulWqUJSQ"
      },
      "execution_count": 27,
      "outputs": []
    },
    {
      "cell_type": "code",
      "source": [
        "non_null_hourly=merged_df[~mask1].copy()\n",
        "non_null_hourly['Marital_Status'] = non_null_hourly['Marital_Status'].map({'Single': 0, 'Married': 1})\n",
        "\n",
        "correlation, p_value = pointbiserialr(non_null_hourly['Hourly_Time'], non_null_hourly['Marital_Status'])\n",
        "print(\"Point-biserial correlation coefficient between Hourly_Time and Marital_Status\")\n",
        "print(\"correlation coefficient:\", correlation)\n",
        "print(\"p-value:\", p_value)\n",
        "\n",
        "correlation, p_value = pointbiserialr(non_null_hourly['Late_minutes'], non_null_hourly['Marital_Status'])\n",
        "print(\"Point-biserial correlation coefficient between Late_minutes and Marital_Status\")\n",
        "print(\"correlation coefficient:\", correlation)\n",
        "print(\"p-value:\", p_value)"
      ],
      "metadata": {
        "colab": {
          "base_uri": "https://localhost:8080/"
        },
        "id": "GlbXFps9ZwPf",
        "outputId": "af919ba4-638e-4c0f-bf8c-843917b1e8cb"
      },
      "execution_count": 28,
      "outputs": [
        {
          "output_type": "stream",
          "name": "stdout",
          "text": [
            "Point-biserial correlation coefficient between Hourly_Time and Marital_Status\n",
            "correlation coefficient: 0.027776670254683743\n",
            "p-value: 0.4689426939478626\n",
            "Point-biserial correlation coefficient between Late_minutes and Marital_Status\n",
            "correlation coefficient: -0.07599441659352534\n",
            "p-value: 0.04727446782030857\n"
          ]
        }
      ]
    },
    {
      "cell_type": "code",
      "source": [
        "non_null_types=merged_df[~mask2].copy()\n",
        "non_null_types['Status'] = non_null_types['Marital_Status'].map({'Single': 0, 'Married': 1})\n",
        "\n",
        "correlation, p_value = pointbiserialr(non_null_types['Type_Full Day'], non_null_types['Status'])\n",
        "print(\"Point-biserial correlation coefficient between Type_Full Day and Marital_Status\")\n",
        "print(\"correlation coefficient:\", correlation)\n",
        "print(\"p-value:\", p_value)\n",
        "\n",
        "correlation, p_value = pointbiserialr(non_null_types['Type_Half Day'], non_null_types['Status'])\n",
        "print(\"Point-biserial correlation coefficient between Type_Half Day and Marital_Status\")\n",
        "print(\"correlation coefficient:\", correlation)\n",
        "print(\"p-value:\", p_value)\n",
        "\n",
        "correlation, p_value = pointbiserialr(non_null_types['apply_type_Anual'], non_null_types['Status'])\n",
        "print(\"Point-biserial correlation coefficient between apply_type_Anual and Marital_Status\")\n",
        "print(\"correlation coefficient:\", correlation)\n",
        "print(\"p-value:\", p_value)\n",
        "\n",
        "correlation, p_value = pointbiserialr(non_null_types['apply_type_Casual'], non_null_types['Status'])\n",
        "print(\"Point-biserial correlation coefficient between apply_type_Casual and MArital_Status\")\n",
        "print(\"correlation coefficient:\", correlation)\n",
        "print(\"p-value:\", p_value)"
      ],
      "metadata": {
        "colab": {
          "base_uri": "https://localhost:8080/"
        },
        "id": "V9ytFh_KcOI2",
        "outputId": "04f37dcf-8c8b-4afd-9960-09d8bcef91c4"
      },
      "execution_count": 29,
      "outputs": [
        {
          "output_type": "stream",
          "name": "stdout",
          "text": [
            "Point-biserial correlation coefficient between Type_Full Day and Marital_Status\n",
            "correlation coefficient: -0.018854941530374605\n",
            "p-value: 0.8944532087318575\n",
            "Point-biserial correlation coefficient between Type_Half Day and Marital_Status\n",
            "correlation coefficient: -0.1286231810396556\n",
            "p-value: 0.36348178984104806\n",
            "Point-biserial correlation coefficient between apply_type_Anual and Marital_Status\n",
            "correlation coefficient: -0.03722466811116393\n",
            "p-value: 0.793324230168613\n",
            "Point-biserial correlation coefficient between apply_type_Casual and MArital_Status\n",
            "correlation coefficient: -0.08277149204042508\n",
            "p-value: 0.5596464130974419\n"
          ]
        }
      ]
    },
    {
      "cell_type": "code",
      "source": [
        "non_null_earnings=merged_df[~mask3].copy()\n",
        "non_null_earnings['Status'] = non_null_earnings['Marital_Status'].map({'Single': 0, 'Married': 1})\n",
        "\n",
        "correlation, p_value = pointbiserialr(non_null_earnings['Earnings'], non_null_earnings['Status'])\n",
        "print(\"Point-biserial correlation coefficient between Earnings and Marital_Status\")\n",
        "print(\"correlation coefficient:\", correlation)\n",
        "print(\"p-value:\", p_value)\n",
        "\n",
        "correlation, p_value = pointbiserialr(non_null_earnings['Total Fixed'], non_null_earnings['Status'])\n",
        "print(\"Point-biserial correlation coefficient between Total Fixed and Marital_Status\")\n",
        "print(\"correlation coefficient:\", correlation)\n",
        "print(\"p-value:\", p_value)"
      ],
      "metadata": {
        "colab": {
          "base_uri": "https://localhost:8080/"
        },
        "id": "3oxGFaDvgeZD",
        "outputId": "74948058-be56-469a-fd76-17b353fc2003"
      },
      "execution_count": 30,
      "outputs": [
        {
          "output_type": "stream",
          "name": "stdout",
          "text": [
            "Point-biserial correlation coefficient between Earnings and Marital_Status\n",
            "correlation coefficient: 0.016983619820182885\n",
            "p-value: 0.6619849724319578\n",
            "Point-biserial correlation coefficient between Total Fixed and Marital_Status\n",
            "correlation coefficient: -0.04841084948636193\n",
            "p-value: 0.21247752853240628\n"
          ]
        }
      ]
    },
    {
      "cell_type": "markdown",
      "source": [
        "## ***Finding the variables having high association with the Year_of_Birth***"
      ],
      "metadata": {
        "id": "p6gryZIMCRWc"
      }
    },
    {
      "cell_type": "code",
      "source": [
        "((~merged_df[\"Marital_Status\"].isnull()) & (~merged_df[\"Year_of_Birth\"].isnull())).sum()"
      ],
      "metadata": {
        "colab": {
          "base_uri": "https://localhost:8080/"
        },
        "id": "t906J_ZfQApN",
        "outputId": "52bef9f3-b5a5-4749-8853-709244952f8b"
      },
      "execution_count": 31,
      "outputs": [
        {
          "output_type": "execute_result",
          "data": {
            "text/plain": [
              "836"
            ]
          },
          "metadata": {},
          "execution_count": 31
        }
      ]
    },
    {
      "cell_type": "code",
      "source": [
        "non_null_yob=merged_df[~(merged_df[\"Year_of_Birth\"].isnull())].copy()\n",
        "non_null_yob.shape"
      ],
      "metadata": {
        "colab": {
          "base_uri": "https://localhost:8080/"
        },
        "id": "fVXGboTVC3h6",
        "outputId": "1dc8c7e4-b9fe-4850-85de-c1fdd3717f77"
      },
      "execution_count": 32,
      "outputs": [
        {
          "output_type": "execute_result",
          "data": {
            "text/plain": [
              "(894, 21)"
            ]
          },
          "metadata": {},
          "execution_count": 32
        }
      ]
    },
    {
      "cell_type": "code",
      "source": [
        "# df = emp[[\"Employee_No\", 'Religion', \"Title\", \"Gender\", \"Status\", \"Employment_Category\", \"Employment_Type\", \"Designation\", \"Marital_Status\", \"Year_of_Birth\"]].copy()\n",
        "# df['Year_Joined'] = emp['Date_Joined'].dt.year\n",
        "\n",
        "# Label encoding the categorical nominal variables\n",
        "le = LabelEncoder()\n",
        "\n",
        "for var in ['Title', 'Gender', 'Status', 'Employment_Category', 'Employment_Type', 'Religion', 'Designation']:\n",
        "    non_null_yob[ var + '_Encoded'] = le.fit_transform(non_null_yob[var])\n",
        "# df = df.drop(['Religion', \"Title\", \"Gender\", \"Status\", \"Employment_Category\", \"Employment_Type\", \"Designation\",\"Marital_Status\"], axis=1)\n",
        "# non_null_yob.nunique()"
      ],
      "metadata": {
        "id": "XGdfTuJ4Uy1D"
      },
      "execution_count": 33,
      "outputs": []
    },
    {
      "cell_type": "code",
      "source": [
        "for var in ['Title', 'Gender', 'Status', 'Employment_Category', 'Employment_Type', 'Religion', 'Designation']:\n",
        "  correlation, p_value = pointbiserialr(non_null_yob[\"Year_of_Birth\"], non_null_yob[var+\"_Encoded\"])\n",
        "  print(\"\\nPoint-biserial correlation coefficient between %s and Year_of_Birth\"%(var))\n",
        "  print(\"correlation coefficient:\", correlation)\n",
        "  print(\"p-value:\", p_value)"
      ],
      "metadata": {
        "colab": {
          "base_uri": "https://localhost:8080/"
        },
        "id": "VuE0EZvlXNST",
        "outputId": "5cf70151-9824-43b0-c89f-2ca59ab76b6d"
      },
      "execution_count": 34,
      "outputs": [
        {
          "output_type": "stream",
          "name": "stdout",
          "text": [
            "\n",
            "Point-biserial correlation coefficient between Title and Year_of_Birth\n",
            "correlation coefficient: 0.09324184805745431\n",
            "p-value: 0.005269251584939154\n",
            "\n",
            "Point-biserial correlation coefficient between Gender and Year_of_Birth\n",
            "correlation coefficient: -0.11888452313082855\n",
            "p-value: 0.00036762771283643174\n",
            "\n",
            "Point-biserial correlation coefficient between Status and Year_of_Birth\n",
            "correlation coefficient: -0.030080229374109063\n",
            "p-value: 0.3690049754449052\n",
            "\n",
            "Point-biserial correlation coefficient between Employment_Category and Year_of_Birth\n",
            "correlation coefficient: 0.16230729048834963\n",
            "p-value: 1.0686630268394594e-06\n",
            "\n",
            "Point-biserial correlation coefficient between Employment_Type and Year_of_Birth\n",
            "correlation coefficient: -0.0931669349725382\n",
            "p-value: 0.005306009792136024\n",
            "\n",
            "Point-biserial correlation coefficient between Religion and Year_of_Birth\n",
            "correlation coefficient: 0.07289139756323283\n",
            "p-value: 0.029310070978422312\n",
            "\n",
            "Point-biserial correlation coefficient between Designation and Year_of_Birth\n",
            "correlation coefficient: -0.05199627541400568\n",
            "p-value: 0.12029042100432416\n"
          ]
        }
      ]
    },
    {
      "cell_type": "markdown",
      "source": [
        "**We can use the result from previous findings where we found association between Year_of_Birth with Marital_Status as follows:**\n",
        "\n",
        "Point-biserial correlation coefficient between Year_of_Birth and Marital_Status\n",
        "\n",
        "*   correlation coefficient: -0.6093927990422292\n",
        "*   p-value: 3.883410430036145e-86\n",
        "\n",
        "\n",
        "\n"
      ],
      "metadata": {
        "id": "raDynIIKvWF0"
      }
    },
    {
      "cell_type": "code",
      "source": [
        "var=\"Year_Joined\"\n",
        "correlation, p_value = spearmanr(non_null_yob['Year_of_Birth'], non_null_yob[var])\n",
        "print(\"\\nSpearman's correlation coefficient between Year_of_Birth and %s:\"%(var), correlation)\n",
        "print(\"p-value:\", p_value)"
      ],
      "metadata": {
        "colab": {
          "base_uri": "https://localhost:8080/"
        },
        "id": "iUti0RCdYfyd",
        "outputId": "d9b4377e-eb41-4480-cc93-ced45cec289a"
      },
      "execution_count": 35,
      "outputs": [
        {
          "output_type": "stream",
          "name": "stdout",
          "text": [
            "\n",
            "Spearman's correlation coefficient between Year_of_Birth and Year_Joined: 0.10727345397730477\n",
            "p-value: 0.0013170241037865694\n"
          ]
        }
      ]
    },
    {
      "cell_type": "code",
      "source": [
        "# Assuming you have a DataFrame named 'df' with columns 'Variable1' and 'Variable2'\n",
        "correlation = non_null_yob['Year_of_Birth'].corr(non_null_yob['Hourly_Time'], method='spearman')\n",
        "print(\"Spearman's correlation coefficient:\", correlation)"
      ],
      "metadata": {
        "colab": {
          "base_uri": "https://localhost:8080/"
        },
        "id": "5xVeLJkpDqYm",
        "outputId": "7f8ecf9e-70a6-41a5-cdb9-161e6f1fc892"
      },
      "execution_count": 36,
      "outputs": [
        {
          "output_type": "stream",
          "name": "stdout",
          "text": [
            "Spearman's correlation coefficient: -0.0654847344215471\n"
          ]
        }
      ]
    },
    {
      "cell_type": "markdown",
      "source": [
        "**But we need p-value as we need to compare the result with other results from different tests. So, we must use scipy**"
      ],
      "metadata": {
        "id": "uoiIRLI6ubiE"
      }
    },
    {
      "cell_type": "code",
      "source": [
        "temp=non_null_yob[~non_null_yob[\"Hourly_Time\"].isnull()].copy()\n",
        "\n",
        "for var in [\"Hourly_Time\",\"Late_minutes\"]:\n",
        "\n",
        "  correlation, p_value = spearmanr(temp['Year_of_Birth'], temp[var])\n",
        "  print(\"\\nSpearman's correlation coefficient between Year_of_Birth and %s:\"%(var), correlation)\n",
        "  print(\"p-value:\", p_value)"
      ],
      "metadata": {
        "colab": {
          "base_uri": "https://localhost:8080/"
        },
        "id": "pO9Yh22mI0h6",
        "outputId": "4b6ae46d-957b-4b30-e7ac-d9d36acd747d"
      },
      "execution_count": 37,
      "outputs": [
        {
          "output_type": "stream",
          "name": "stdout",
          "text": [
            "\n",
            "Spearman's correlation coefficient between Year_of_Birth and Hourly_Time: -0.0654847344215471\n",
            "p-value: 0.08936618583040871\n",
            "\n",
            "Spearman's correlation coefficient between Year_of_Birth and Late_minutes: 0.12634292692412383\n",
            "p-value: 0.0010120841694130978\n"
          ]
        }
      ]
    },
    {
      "cell_type": "code",
      "source": [
        "temp=non_null_yob[~non_null_yob[\"Type_Full Day\"].isnull()].copy()\n",
        "\n",
        "for var in ['Type_Full Day', 'Type_Half Day', 'apply_type_Anual','apply_type_Casual']:\n",
        "  correlation, p_value = spearmanr(temp['Year_of_Birth'], temp[var])\n",
        "  print(\"\\nSpearman's correlation coefficient between Year_of_Birth and %s:\"%(var), correlation)\n",
        "  print(\"p-value:\", p_value)"
      ],
      "metadata": {
        "colab": {
          "base_uri": "https://localhost:8080/"
        },
        "id": "QrKd0x8NOM_B",
        "outputId": "0853145e-1dec-46f8-fdbe-afe9127eb66e"
      },
      "execution_count": 38,
      "outputs": [
        {
          "output_type": "stream",
          "name": "stdout",
          "text": [
            "\n",
            "Spearman's correlation coefficient between Year_of_Birth and Type_Full Day: -0.022434546936916003\n",
            "p-value: 0.869637596808831\n",
            "\n",
            "Spearman's correlation coefficient between Year_of_Birth and Type_Half Day: 0.051006031212767984\n",
            "p-value: 0.7089039845572107\n",
            "\n",
            "Spearman's correlation coefficient between Year_of_Birth and apply_type_Anual: -0.004873110281872039\n",
            "p-value: 0.971565650416458\n",
            "\n",
            "Spearman's correlation coefficient between Year_of_Birth and apply_type_Casual: -0.04161382707711023\n",
            "p-value: 0.7607335439940142\n"
          ]
        }
      ]
    },
    {
      "cell_type": "code",
      "source": [
        "temp=non_null_yob[~non_null_yob[\"Earnings\"].isnull()].copy()\n",
        "\n",
        "for var in ['Earnings', 'Total Fixed']:\n",
        "\n",
        "  correlation, p_value = spearmanr(temp['Year_of_Birth'], temp[var])\n",
        "  print(\"\\nSpearman's correlation coefficient between Year_of_Birth and %s:\"%(var), correlation)\n",
        "  print(\"p-value:\", p_value)"
      ],
      "metadata": {
        "colab": {
          "base_uri": "https://localhost:8080/"
        },
        "id": "LxXUpZzTOuFG",
        "outputId": "2e6dca31-79c0-4aa6-b035-0907b9bba15e"
      },
      "execution_count": 39,
      "outputs": [
        {
          "output_type": "stream",
          "name": "stdout",
          "text": [
            "\n",
            "Spearman's correlation coefficient between Year_of_Birth and Earnings: 0.032237487972886524\n",
            "p-value: 0.41047401386752047\n",
            "\n",
            "Spearman's correlation coefficient between Year_of_Birth and Total Fixed: 0.1082637520673825\n",
            "p-value: 0.005579376822556333\n"
          ]
        }
      ]
    },
    {
      "cell_type": "markdown",
      "source": [
        "## ***Imputing missing values for Year_of_Birth and Marital_Status***"
      ],
      "metadata": {
        "id": "m59lmzOlCyzE"
      }
    },
    {
      "cell_type": "markdown",
      "source": [
        "**Following are the features which are highly correlated with Marital_Status:**\n",
        "- Title\n",
        "- Gender\n",
        "- Employment_Category\n",
        "- Designation\n",
        "- Year_of_Birth\n",
        "\n",
        "**Following are the features which are highly correlated with Year_of_Birth:**\n",
        "- Gender\n",
        "- Employment_Category\n",
        "- Marital_Status\n",
        "\n",
        "**In addition to the above we got that Year_of_Birth and Marital_Status are having null values, and they are the two highly correlated variables than any others.**\n",
        "\n",
        "So, let's first check how many records are with missing both Year_of_Birth and Marital_Status."
      ],
      "metadata": {
        "id": "TZsrS02NQv0L"
      }
    },
    {
      "cell_type": "code",
      "source": [
        "(merged_df[\"Year_of_Birth\"].isnull() & merged_df[\"Marital_Status\"].isnull()).sum()"
      ],
      "metadata": {
        "colab": {
          "base_uri": "https://localhost:8080/"
        },
        "id": "5933SL7rQu24",
        "outputId": "5e3daa56-e23a-44ce-b1d5-509b4efb10b8"
      },
      "execution_count": 40,
      "outputs": [
        {
          "output_type": "execute_result",
          "data": {
            "text/plain": [
              "9"
            ]
          },
          "metadata": {},
          "execution_count": 40
        }
      ]
    },
    {
      "cell_type": "markdown",
      "source": [
        "Since only 9 records out of 997 records are missing both. I planned to use following approch for filling missing values:\n",
        "- First impute the records with missing only one attribute(Year_of_Birth or Marital_Status) by inference based approch.\n",
        "- Then impute remaining 9 records by considering best central tendency measure of Marital_Status and Year_of_Birth."
      ],
      "metadata": {
        "id": "19IVP-lSS9kx"
      }
    },
    {
      "cell_type": "code",
      "source": [
        "df = merged_df[[\"Employee_No\", \"Title\", \"Gender\", \"Employment_Category\", \"Designation\", \"Marital_Status\", \"Year_of_Birth\"]].copy()\n",
        "\n",
        "# Label encoding the categorical nominal variables\n",
        "le = LabelEncoder()\n",
        "\n",
        "for var in [\"Title\", \"Gender\", \"Employment_Category\", \"Designation\", \"Marital_Status\"]:\n",
        "  if var == \"Marital_Status\":\n",
        "    df[var + '_Encoded'] = le.fit_transform(df[var].astype(str))\n",
        "    # Replace null values with a specific value, such as -1, to represent missing values\n",
        "    df[var + '_Encoded'].fillna(-1, inplace=True)\n",
        "\n",
        "    # Access the mapping of encoded values to original labels\n",
        "    mapping_Marital_Status = dict(zip(le.transform(le.classes_), le.classes_))\n",
        "    print(mapping_Marital_Status)\n",
        "\n",
        "  else:\n",
        "    df[var + '_Encoded'] = le.fit_transform(df[var])\n",
        "df.drop([\"Title\", \"Gender\", \"Employment_Category\", \"Designation\"], axis=1,inplace=True)\n"
      ],
      "metadata": {
        "id": "xwjzy3dBO6pa",
        "colab": {
          "base_uri": "https://localhost:8080/"
        },
        "outputId": "4b6d5c06-c6c0-4db7-cc38-02c4315e845f"
      },
      "execution_count": 41,
      "outputs": [
        {
          "output_type": "stream",
          "name": "stdout",
          "text": [
            "{0: 'Married', 1: 'Single', 2: 'nan'}\n"
          ]
        }
      ]
    },
    {
      "cell_type": "code",
      "source": [
        "mask= df[\"Marital_Status\"].isnull()\n",
        "df.loc[mask, \"Marital_Status_Encoded\"] = -1"
      ],
      "metadata": {
        "id": "8QO_M_qllNq8"
      },
      "execution_count": 42,
      "outputs": []
    },
    {
      "cell_type": "code",
      "source": [
        "df_not_missing_any=df[~(mask | df[\"Year_of_Birth\"].isnull())].copy() # DataFrame for training the model\n",
        "df_not_missing_any.shape"
      ],
      "metadata": {
        "colab": {
          "base_uri": "https://localhost:8080/"
        },
        "id": "F9Gta4s8jsmK",
        "outputId": "ffe5795d-9d0a-43c4-8427-5797acc841db"
      },
      "execution_count": 43,
      "outputs": [
        {
          "output_type": "execute_result",
          "data": {
            "text/plain": [
              "(836, 8)"
            ]
          },
          "metadata": {},
          "execution_count": 43
        }
      ]
    },
    {
      "cell_type": "markdown",
      "source": [
        "#### **Create best model for predict Marital_Status**"
      ],
      "metadata": {
        "id": "PeL__tYBkF5Z"
      }
    },
    {
      "cell_type": "code",
      "source": [
        "X = df_not_missing_any[[\"Title_Encoded\",'Gender_Encoded', 'Employment_Category_Encoded', \"Designation_Encoded\", 'Year_of_Birth']]\n",
        "y = df_not_missing_any['Marital_Status']\n",
        "\n",
        "X_train, X_test, y_train, y_test = train_test_split(X, y, test_size=0.1, random_state=10)\n",
        "param_grid = {\n",
        "    'n_estimators': [100, 200, 300],\n",
        "    'max_depth': [None, 10, 20, 30],\n",
        "    'min_samples_split': [2, 5, 10,15,20]\n",
        "}\n",
        "rf_model = RandomForestClassifier(random_state=10)\n",
        "grid_search = GridSearchCV(rf_model, param_grid, cv=5, scoring='accuracy')\n",
        "grid_search.fit(X_train, y_train)\n",
        "best_params = grid_search.best_params_\n",
        "best_model = grid_search.best_estimator_\n",
        "accuracy = best_model.score(X_test, y_test)\n",
        "print(\"Best model accuracy:\", accuracy)"
      ],
      "metadata": {
        "colab": {
          "base_uri": "https://localhost:8080/"
        },
        "id": "vFCedlrakPKK",
        "outputId": "0d260c5d-b01e-4af2-c3e7-5db1d7b1b677"
      },
      "execution_count": 44,
      "outputs": [
        {
          "output_type": "stream",
          "name": "stdout",
          "text": [
            "Best model accuracy: 0.8928571428571429\n"
          ]
        }
      ]
    },
    {
      "cell_type": "code",
      "source": [
        "best_params"
      ],
      "metadata": {
        "colab": {
          "base_uri": "https://localhost:8080/"
        },
        "id": "swvrh9GdlhsG",
        "outputId": "77d58fc0-504f-4850-f7e8-f3b1050f932d"
      },
      "execution_count": 45,
      "outputs": [
        {
          "output_type": "execute_result",
          "data": {
            "text/plain": [
              "{'max_depth': None, 'min_samples_split': 20, 'n_estimators': 100}"
            ]
          },
          "metadata": {},
          "execution_count": 45
        }
      ]
    },
    {
      "cell_type": "code",
      "source": [
        "best_model_Marital_Status = RandomForestClassifier(random_state=10, **best_params)\n",
        "best_model_Marital_Status.fit(X,y)"
      ],
      "metadata": {
        "colab": {
          "base_uri": "https://localhost:8080/",
          "height": 0
        },
        "id": "40WC3BJxm5YI",
        "outputId": "898222c3-7da8-429d-af0b-0643d850dcaa"
      },
      "execution_count": 46,
      "outputs": [
        {
          "output_type": "execute_result",
          "data": {
            "text/plain": [
              "RandomForestClassifier(min_samples_split=20, random_state=10)"
            ],
            "text/html": [
              "<style>#sk-container-id-1 {color: black;background-color: white;}#sk-container-id-1 pre{padding: 0;}#sk-container-id-1 div.sk-toggleable {background-color: white;}#sk-container-id-1 label.sk-toggleable__label {cursor: pointer;display: block;width: 100%;margin-bottom: 0;padding: 0.3em;box-sizing: border-box;text-align: center;}#sk-container-id-1 label.sk-toggleable__label-arrow:before {content: \"▸\";float: left;margin-right: 0.25em;color: #696969;}#sk-container-id-1 label.sk-toggleable__label-arrow:hover:before {color: black;}#sk-container-id-1 div.sk-estimator:hover label.sk-toggleable__label-arrow:before {color: black;}#sk-container-id-1 div.sk-toggleable__content {max-height: 0;max-width: 0;overflow: hidden;text-align: left;background-color: #f0f8ff;}#sk-container-id-1 div.sk-toggleable__content pre {margin: 0.2em;color: black;border-radius: 0.25em;background-color: #f0f8ff;}#sk-container-id-1 input.sk-toggleable__control:checked~div.sk-toggleable__content {max-height: 200px;max-width: 100%;overflow: auto;}#sk-container-id-1 input.sk-toggleable__control:checked~label.sk-toggleable__label-arrow:before {content: \"▾\";}#sk-container-id-1 div.sk-estimator input.sk-toggleable__control:checked~label.sk-toggleable__label {background-color: #d4ebff;}#sk-container-id-1 div.sk-label input.sk-toggleable__control:checked~label.sk-toggleable__label {background-color: #d4ebff;}#sk-container-id-1 input.sk-hidden--visually {border: 0;clip: rect(1px 1px 1px 1px);clip: rect(1px, 1px, 1px, 1px);height: 1px;margin: -1px;overflow: hidden;padding: 0;position: absolute;width: 1px;}#sk-container-id-1 div.sk-estimator {font-family: monospace;background-color: #f0f8ff;border: 1px dotted black;border-radius: 0.25em;box-sizing: border-box;margin-bottom: 0.5em;}#sk-container-id-1 div.sk-estimator:hover {background-color: #d4ebff;}#sk-container-id-1 div.sk-parallel-item::after {content: \"\";width: 100%;border-bottom: 1px solid gray;flex-grow: 1;}#sk-container-id-1 div.sk-label:hover label.sk-toggleable__label {background-color: #d4ebff;}#sk-container-id-1 div.sk-serial::before {content: \"\";position: absolute;border-left: 1px solid gray;box-sizing: border-box;top: 0;bottom: 0;left: 50%;z-index: 0;}#sk-container-id-1 div.sk-serial {display: flex;flex-direction: column;align-items: center;background-color: white;padding-right: 0.2em;padding-left: 0.2em;position: relative;}#sk-container-id-1 div.sk-item {position: relative;z-index: 1;}#sk-container-id-1 div.sk-parallel {display: flex;align-items: stretch;justify-content: center;background-color: white;position: relative;}#sk-container-id-1 div.sk-item::before, #sk-container-id-1 div.sk-parallel-item::before {content: \"\";position: absolute;border-left: 1px solid gray;box-sizing: border-box;top: 0;bottom: 0;left: 50%;z-index: -1;}#sk-container-id-1 div.sk-parallel-item {display: flex;flex-direction: column;z-index: 1;position: relative;background-color: white;}#sk-container-id-1 div.sk-parallel-item:first-child::after {align-self: flex-end;width: 50%;}#sk-container-id-1 div.sk-parallel-item:last-child::after {align-self: flex-start;width: 50%;}#sk-container-id-1 div.sk-parallel-item:only-child::after {width: 0;}#sk-container-id-1 div.sk-dashed-wrapped {border: 1px dashed gray;margin: 0 0.4em 0.5em 0.4em;box-sizing: border-box;padding-bottom: 0.4em;background-color: white;}#sk-container-id-1 div.sk-label label {font-family: monospace;font-weight: bold;display: inline-block;line-height: 1.2em;}#sk-container-id-1 div.sk-label-container {text-align: center;}#sk-container-id-1 div.sk-container {/* jupyter's `normalize.less` sets `[hidden] { display: none; }` but bootstrap.min.css set `[hidden] { display: none !important; }` so we also need the `!important` here to be able to override the default hidden behavior on the sphinx rendered scikit-learn.org. See: https://github.com/scikit-learn/scikit-learn/issues/21755 */display: inline-block !important;position: relative;}#sk-container-id-1 div.sk-text-repr-fallback {display: none;}</style><div id=\"sk-container-id-1\" class=\"sk-top-container\"><div class=\"sk-text-repr-fallback\"><pre>RandomForestClassifier(min_samples_split=20, random_state=10)</pre><b>In a Jupyter environment, please rerun this cell to show the HTML representation or trust the notebook. <br />On GitHub, the HTML representation is unable to render, please try loading this page with nbviewer.org.</b></div><div class=\"sk-container\" hidden><div class=\"sk-item\"><div class=\"sk-estimator sk-toggleable\"><input class=\"sk-toggleable__control sk-hidden--visually\" id=\"sk-estimator-id-1\" type=\"checkbox\" checked><label for=\"sk-estimator-id-1\" class=\"sk-toggleable__label sk-toggleable__label-arrow\">RandomForestClassifier</label><div class=\"sk-toggleable__content\"><pre>RandomForestClassifier(min_samples_split=20, random_state=10)</pre></div></div></div></div></div>"
            ]
          },
          "metadata": {},
          "execution_count": 46
        }
      ]
    },
    {
      "cell_type": "markdown",
      "source": [
        "#### **Create best model for predict Year_of_Birth**"
      ],
      "metadata": {
        "id": "anpG3zFbnJem"
      }
    },
    {
      "cell_type": "code",
      "source": [
        "X = df_not_missing_any[['Gender_Encoded', 'Marital_Status_Encoded','Employment_Category_Encoded']]\n",
        "y = df_not_missing_any['Year_of_Birth']\n",
        "\n",
        "X_train, X_test, y_train, y_test = train_test_split(X, y, test_size=0.1, random_state=10)\n",
        "param_grid = {\n",
        "    'n_estimators': [100, 200, 300],\n",
        "    'max_depth': [None, 10, 20, 30],\n",
        "    'min_samples_split': [2, 5, 10,15,20]\n",
        "}\n",
        "rf_model = RandomForestRegressor(random_state=10)\n",
        "grid_search = GridSearchCV(rf_model, param_grid, cv=5, scoring='neg_mean_squared_error')\n",
        "grid_search.fit(X_train, y_train)\n",
        "\n",
        "best_params = grid_search.best_params_\n",
        "best_model = grid_search.best_estimator_\n",
        "\n",
        "r_squared = best_model.score(X_test, y_test)\n",
        "print(\"Best model R-squared:\", r_squared)"
      ],
      "metadata": {
        "colab": {
          "base_uri": "https://localhost:8080/"
        },
        "id": "XiJlf4xWnI4B",
        "outputId": "d4f578aa-a2c6-4d9d-9580-0f430cee1908"
      },
      "execution_count": 47,
      "outputs": [
        {
          "output_type": "stream",
          "name": "stdout",
          "text": [
            "Best model R-squared: 0.46640064832746086\n"
          ]
        }
      ]
    },
    {
      "cell_type": "code",
      "source": [
        "best_params"
      ],
      "metadata": {
        "colab": {
          "base_uri": "https://localhost:8080/"
        },
        "id": "jgygKjbpqCk9",
        "outputId": "b065bbc0-36e0-46a6-ee9c-f64b1d176c6a"
      },
      "execution_count": 48,
      "outputs": [
        {
          "output_type": "execute_result",
          "data": {
            "text/plain": [
              "{'max_depth': None, 'min_samples_split': 15, 'n_estimators': 300}"
            ]
          },
          "metadata": {},
          "execution_count": 48
        }
      ]
    },
    {
      "cell_type": "code",
      "source": [
        "best_model_Year_of_Birth = RandomForestRegressor(random_state=10, **best_params)\n",
        "best_model_Year_of_Birth.fit(X,y)"
      ],
      "metadata": {
        "colab": {
          "base_uri": "https://localhost:8080/",
          "height": 0
        },
        "id": "EcKIo3CrpmMU",
        "outputId": "6bdb7cca-dc10-4324-ecde-8f3b87248b5c"
      },
      "execution_count": 49,
      "outputs": [
        {
          "output_type": "execute_result",
          "data": {
            "text/plain": [
              "RandomForestRegressor(min_samples_split=15, n_estimators=300, random_state=10)"
            ],
            "text/html": [
              "<style>#sk-container-id-2 {color: black;background-color: white;}#sk-container-id-2 pre{padding: 0;}#sk-container-id-2 div.sk-toggleable {background-color: white;}#sk-container-id-2 label.sk-toggleable__label {cursor: pointer;display: block;width: 100%;margin-bottom: 0;padding: 0.3em;box-sizing: border-box;text-align: center;}#sk-container-id-2 label.sk-toggleable__label-arrow:before {content: \"▸\";float: left;margin-right: 0.25em;color: #696969;}#sk-container-id-2 label.sk-toggleable__label-arrow:hover:before {color: black;}#sk-container-id-2 div.sk-estimator:hover label.sk-toggleable__label-arrow:before {color: black;}#sk-container-id-2 div.sk-toggleable__content {max-height: 0;max-width: 0;overflow: hidden;text-align: left;background-color: #f0f8ff;}#sk-container-id-2 div.sk-toggleable__content pre {margin: 0.2em;color: black;border-radius: 0.25em;background-color: #f0f8ff;}#sk-container-id-2 input.sk-toggleable__control:checked~div.sk-toggleable__content {max-height: 200px;max-width: 100%;overflow: auto;}#sk-container-id-2 input.sk-toggleable__control:checked~label.sk-toggleable__label-arrow:before {content: \"▾\";}#sk-container-id-2 div.sk-estimator input.sk-toggleable__control:checked~label.sk-toggleable__label {background-color: #d4ebff;}#sk-container-id-2 div.sk-label input.sk-toggleable__control:checked~label.sk-toggleable__label {background-color: #d4ebff;}#sk-container-id-2 input.sk-hidden--visually {border: 0;clip: rect(1px 1px 1px 1px);clip: rect(1px, 1px, 1px, 1px);height: 1px;margin: -1px;overflow: hidden;padding: 0;position: absolute;width: 1px;}#sk-container-id-2 div.sk-estimator {font-family: monospace;background-color: #f0f8ff;border: 1px dotted black;border-radius: 0.25em;box-sizing: border-box;margin-bottom: 0.5em;}#sk-container-id-2 div.sk-estimator:hover {background-color: #d4ebff;}#sk-container-id-2 div.sk-parallel-item::after {content: \"\";width: 100%;border-bottom: 1px solid gray;flex-grow: 1;}#sk-container-id-2 div.sk-label:hover label.sk-toggleable__label {background-color: #d4ebff;}#sk-container-id-2 div.sk-serial::before {content: \"\";position: absolute;border-left: 1px solid gray;box-sizing: border-box;top: 0;bottom: 0;left: 50%;z-index: 0;}#sk-container-id-2 div.sk-serial {display: flex;flex-direction: column;align-items: center;background-color: white;padding-right: 0.2em;padding-left: 0.2em;position: relative;}#sk-container-id-2 div.sk-item {position: relative;z-index: 1;}#sk-container-id-2 div.sk-parallel {display: flex;align-items: stretch;justify-content: center;background-color: white;position: relative;}#sk-container-id-2 div.sk-item::before, #sk-container-id-2 div.sk-parallel-item::before {content: \"\";position: absolute;border-left: 1px solid gray;box-sizing: border-box;top: 0;bottom: 0;left: 50%;z-index: -1;}#sk-container-id-2 div.sk-parallel-item {display: flex;flex-direction: column;z-index: 1;position: relative;background-color: white;}#sk-container-id-2 div.sk-parallel-item:first-child::after {align-self: flex-end;width: 50%;}#sk-container-id-2 div.sk-parallel-item:last-child::after {align-self: flex-start;width: 50%;}#sk-container-id-2 div.sk-parallel-item:only-child::after {width: 0;}#sk-container-id-2 div.sk-dashed-wrapped {border: 1px dashed gray;margin: 0 0.4em 0.5em 0.4em;box-sizing: border-box;padding-bottom: 0.4em;background-color: white;}#sk-container-id-2 div.sk-label label {font-family: monospace;font-weight: bold;display: inline-block;line-height: 1.2em;}#sk-container-id-2 div.sk-label-container {text-align: center;}#sk-container-id-2 div.sk-container {/* jupyter's `normalize.less` sets `[hidden] { display: none; }` but bootstrap.min.css set `[hidden] { display: none !important; }` so we also need the `!important` here to be able to override the default hidden behavior on the sphinx rendered scikit-learn.org. See: https://github.com/scikit-learn/scikit-learn/issues/21755 */display: inline-block !important;position: relative;}#sk-container-id-2 div.sk-text-repr-fallback {display: none;}</style><div id=\"sk-container-id-2\" class=\"sk-top-container\"><div class=\"sk-text-repr-fallback\"><pre>RandomForestRegressor(min_samples_split=15, n_estimators=300, random_state=10)</pre><b>In a Jupyter environment, please rerun this cell to show the HTML representation or trust the notebook. <br />On GitHub, the HTML representation is unable to render, please try loading this page with nbviewer.org.</b></div><div class=\"sk-container\" hidden><div class=\"sk-item\"><div class=\"sk-estimator sk-toggleable\"><input class=\"sk-toggleable__control sk-hidden--visually\" id=\"sk-estimator-id-2\" type=\"checkbox\" checked><label for=\"sk-estimator-id-2\" class=\"sk-toggleable__label sk-toggleable__label-arrow\">RandomForestRegressor</label><div class=\"sk-toggleable__content\"><pre>RandomForestRegressor(min_samples_split=15, n_estimators=300, random_state=10)</pre></div></div></div></div></div>"
            ]
          },
          "metadata": {},
          "execution_count": 49
        }
      ]
    },
    {
      "cell_type": "markdown",
      "source": [
        "####  **Impute the records with missing only one attribute(Year_of_Birth or Marital_Status) by inference based approch.**"
      ],
      "metadata": {
        "id": "6QVlcs7-wSZE"
      }
    },
    {
      "cell_type": "code",
      "source": [
        "df_copy=df.copy()\n",
        "df=df[~(df[\"Marital_Status\"].isnull() & df[\"Year_of_Birth\"].isnull())].copy()"
      ],
      "metadata": {
        "id": "Q9Gqb4EAw2kE"
      },
      "execution_count": 50,
      "outputs": []
    },
    {
      "cell_type": "markdown",
      "source": [
        "###### Impute Marital_Status:"
      ],
      "metadata": {
        "id": "BiM7F8Iowq1I"
      }
    },
    {
      "cell_type": "code",
      "source": [
        "# Split the DataFrame into two sets\n",
        "df_missing = df[df['Marital_Status_Encoded']==-1]\n",
        "# df_not_missing = df[~(df['Marital_Status_Encoded']==-1)]\n",
        "\n",
        "# Predict missing values in df_missing\n",
        "X_missing = df_missing[[\"Title_Encoded\",'Gender_Encoded', 'Employment_Category_Encoded', \"Designation_Encoded\", 'Year_of_Birth']]\n",
        "predicted_values = best_model_Marital_Status.predict(X_missing) # Predicted values will be Married or Single (not any numeric value).\n",
        "\n",
        "# Assign the predicted values to the missing entries in 'Marital_Status_Encoded'\n",
        "df.loc[df['Marital_Status_Encoded']==-1, 'Marital_Status'] = predicted_values\n",
        "\n",
        "df[\"Marital_Status\"].unique()"
      ],
      "metadata": {
        "colab": {
          "base_uri": "https://localhost:8080/"
        },
        "id": "3cI3K9XYwRhz",
        "outputId": "e091b9f9-cc7a-49ff-ac96-f56dc5b3c4d5"
      },
      "execution_count": 51,
      "outputs": [
        {
          "output_type": "execute_result",
          "data": {
            "text/plain": [
              "array(['Married', 'Single'], dtype=object)"
            ]
          },
          "metadata": {},
          "execution_count": 51
        }
      ]
    },
    {
      "cell_type": "markdown",
      "source": [
        "###### Impute Year_of_Birth:"
      ],
      "metadata": {
        "id": "IatR3RdJ2f5e"
      }
    },
    {
      "cell_type": "code",
      "source": [
        "# Split the DataFrame into two sets\n",
        "df_missing = df[df['Year_of_Birth'].isnull()]\n",
        "# df_not_missing = df[~(df['Year_of_Birth'].isnull())]\n",
        "\n",
        "# Predict missing values in df_missing\n",
        "X_missing = df_missing[['Gender_Encoded', 'Marital_Status_Encoded','Employment_Category_Encoded']]\n",
        "predicted_values = best_model_Year_of_Birth.predict(X_missing)\n",
        "\n",
        "# Assign the predicted values to the missing entries in 'Year_of_Birth'\n",
        "df.loc[df['Year_of_Birth'].isnull(), 'Year_of_Birth'] = predicted_values\n",
        "\n",
        "# df['Year_of_Birth'].unique()"
      ],
      "metadata": {
        "id": "vODNPmsj2fOk"
      },
      "execution_count": 52,
      "outputs": []
    },
    {
      "cell_type": "code",
      "source": [
        "df.info()"
      ],
      "metadata": {
        "colab": {
          "base_uri": "https://localhost:8080/"
        },
        "id": "WWyuhEm_86uS",
        "outputId": "a5148c68-5a66-4b6c-cd5e-2ea886230fab"
      },
      "execution_count": 53,
      "outputs": [
        {
          "output_type": "stream",
          "name": "stdout",
          "text": [
            "<class 'pandas.core.frame.DataFrame'>\n",
            "Int64Index: 988 entries, 0 to 996\n",
            "Data columns (total 8 columns):\n",
            " #   Column                       Non-Null Count  Dtype  \n",
            "---  ------                       --------------  -----  \n",
            " 0   Employee_No                  988 non-null    int64  \n",
            " 1   Marital_Status               988 non-null    object \n",
            " 2   Year_of_Birth                988 non-null    float64\n",
            " 3   Title_Encoded                988 non-null    int64  \n",
            " 4   Gender_Encoded               988 non-null    int64  \n",
            " 5   Employment_Category_Encoded  988 non-null    int64  \n",
            " 6   Designation_Encoded          988 non-null    int64  \n",
            " 7   Marital_Status_Encoded       988 non-null    int64  \n",
            "dtypes: float64(1), int64(6), object(1)\n",
            "memory usage: 69.5+ KB\n"
          ]
        }
      ]
    },
    {
      "cell_type": "markdown",
      "source": [
        "####  **Transfer the imputed values from DataFrame df to main DataFrame merged_df.**"
      ],
      "metadata": {
        "id": "8SZGQ1SQ5YfH"
      }
    },
    {
      "cell_type": "code",
      "source": [
        "mask= ~(merged_df[\"Marital_Status\"].isnull() & merged_df[\"Year_of_Birth\"].isnull())\n",
        "merged_df.loc[mask,\"Marital_Status\"]=df[\"Marital_Status\"]"
      ],
      "metadata": {
        "id": "LaemX6sBH1ke"
      },
      "execution_count": 54,
      "outputs": []
    },
    {
      "cell_type": "code",
      "source": [
        "merged_df.loc[mask,\"Year_of_Birth\"]=df[\"Year_of_Birth\"]"
      ],
      "metadata": {
        "id": "PQNPeR97MOTr"
      },
      "execution_count": 55,
      "outputs": []
    },
    {
      "cell_type": "code",
      "source": [
        "# merged_df.info()"
      ],
      "metadata": {
        "id": "4QV_yhFQL32X"
      },
      "execution_count": 56,
      "outputs": []
    },
    {
      "cell_type": "markdown",
      "source": [
        "#### **Impute the ramaining 9 records which having missing values in both Year_of_Birth and Marital Status using a suitable measure of central tendency.**"
      ],
      "metadata": {
        "id": "DbKq-r6P5xZq"
      }
    },
    {
      "cell_type": "markdown",
      "source": [
        "- Mode is the best measure to impute missing value of Marital_Status as it is a nominal variable.\n",
        "- Let's find Year_of_Birth having any outliers or it is skewed."
      ],
      "metadata": {
        "id": "h1-T9Qcz9Krq"
      }
    },
    {
      "cell_type": "code",
      "source": [
        "merged_df[\"Marital_Status\"].describe()"
      ],
      "metadata": {
        "colab": {
          "base_uri": "https://localhost:8080/"
        },
        "id": "WRErLdXJNKJz",
        "outputId": "df294148-eaca-4a1e-ad45-fb2440703e2a"
      },
      "execution_count": 57,
      "outputs": [
        {
          "output_type": "execute_result",
          "data": {
            "text/plain": [
              "count         988\n",
              "unique          2\n",
              "top       Married\n",
              "freq          643\n",
              "Name: Marital_Status, dtype: object"
            ]
          },
          "metadata": {},
          "execution_count": 57
        }
      ]
    },
    {
      "cell_type": "code",
      "source": [
        "merged_df[\"Year_of_Birth\"].describe()"
      ],
      "metadata": {
        "colab": {
          "base_uri": "https://localhost:8080/"
        },
        "id": "VRO_sfZWNbcm",
        "outputId": "1acf8c21-eee1-4703-a495-3312be89c1a2"
      },
      "execution_count": 58,
      "outputs": [
        {
          "output_type": "execute_result",
          "data": {
            "text/plain": [
              "count     988.000000\n",
              "mean     1983.136850\n",
              "std        12.824097\n",
              "min      1946.000000\n",
              "25%      1975.000000\n",
              "50%      1986.000000\n",
              "75%      1994.000000\n",
              "max      2006.000000\n",
              "Name: Year_of_Birth, dtype: float64"
            ]
          },
          "metadata": {},
          "execution_count": 58
        }
      ]
    },
    {
      "cell_type": "code",
      "source": [
        "# Create a box plot using matplotlib\n",
        "plt.boxplot(df[\"Year_of_Birth\"])\n",
        "\n",
        "# Set title and labels\n",
        "plt.title('Year_of_Birth')\n",
        "plt.ylabel('Year')\n",
        "\n",
        "# Show the plot\n",
        "plt.show()"
      ],
      "metadata": {
        "colab": {
          "base_uri": "https://localhost:8080/",
          "height": 0
        },
        "id": "e1KICi4RSh_2",
        "outputId": "590a9ace-f37e-4035-f91a-b2fa9036830d"
      },
      "execution_count": 59,
      "outputs": [
        {
          "output_type": "display_data",
          "data": {
            "text/plain": [
              "<Figure size 640x480 with 1 Axes>"
            ],
            "image/png": "[encoded data removed]"
          },
          "metadata": {}
        }
      ]
    },
    {
      "cell_type": "markdown",
      "source": [
        "- **Since there is presence of outlier, and the left (lower) whisker is longer than the right (upper) whisker, the distribution is left-skewed, meaning it has a tail on the left side (negative skewness). So, median is the best choice to impute Year_of_Birth using central tendancy measure.**"
      ],
      "metadata": {
        "id": "1uTF8zDbSw4X"
      }
    },
    {
      "cell_type": "code",
      "source": [
        "merged_df[\"Marital_Status\"] = merged_df[\"Marital_Status\"].fillna(merged_df[\"Marital_Status\"].mode()[0])\n",
        "merged_df[\"Year_of_Birth\"] =merged_df[\"Year_of_Birth\"].fillna(merged_df[\"Year_of_Birth\"].median())"
      ],
      "metadata": {
        "id": "-rBLQsdFMmat"
      },
      "execution_count": 60,
      "outputs": []
    },
    {
      "cell_type": "code",
      "source": [
        "merged_df['Year_of_Birth'] = merged_df['Year_of_Birth'].round().astype(int) # Round the Year_of_Birth to nearest integer value."
      ],
      "metadata": {
        "id": "9U2vOJfIWu9I"
      },
      "execution_count": 61,
      "outputs": []
    },
    {
      "cell_type": "markdown",
      "source": [
        "## ***Imputing missing values for other attributes having null***"
      ],
      "metadata": {
        "id": "UwCZ0fOGT1U8"
      }
    },
    {
      "cell_type": "markdown",
      "source": [
        "\n",
        "\n",
        "1.   Date_Resigned can be null\n",
        "2.   I don't have further access about 'Hourly_Time', 'Late_minutes', 'Type_Full Day', 'Type_Half Day', 'apply_type_Anual', 'apply_type_Casual', 'Earnings', 'Total Fixed'.\n",
        "3. There is a possibility to have that null values as zero. So, To fill them we need the information why they are missing. For example If we get information Employees whose records not in leaves.csv didn't take any leave.\n",
        "\n",
        "\n",
        "\n",
        "\n"
      ],
      "metadata": {
        "id": "oH7IeJweT_sJ"
      }
    },
    {
      "cell_type": "markdown",
      "source": [
        "***Hence,I skipped the imputation of null values for the above variables***"
      ],
      "metadata": {
        "id": "tOLgTCXwVhwx"
      }
    },
    {
      "cell_type": "markdown",
      "source": [
        "## ***Create new features***"
      ],
      "metadata": {
        "id": "CfOtFxiZEASn"
      }
    },
    {
      "cell_type": "markdown",
      "source": [
        "> Create features Resigned_Age and Worked_Duration. Because, they may provide significance information about target variable Status\n",
        "\n"
      ],
      "metadata": {
        "id": "ePCkDCrf_wyS"
      }
    },
    {
      "cell_type": "code",
      "source": [
        "merged_df['Resigned_Age'] = merged_df['Date_Resigned'].dt.year - merged_df['Year_of_Birth']\n",
        "merged_df['Worked_Duration'] = merged_df['Date_Resigned'].dt.year - merged_df['Year_Joined']"
      ],
      "metadata": {
        "id": "ePDPloHMsMvV"
      },
      "execution_count": 62,
      "outputs": []
    },
    {
      "cell_type": "code",
      "source": [
        "merged_df"
      ],
      "metadata": {
        "colab": {
          "base_uri": "https://localhost:8080/",
          "height": 505
        },
        "id": "HXvJ0T2OV3mt",
        "outputId": "1bc5a7d9-2ba1-474c-b194-1ecf1218601f"
      },
      "execution_count": 63,
      "outputs": [
        {
          "output_type": "execute_result",
          "data": {
            "text/plain": [
              "     Employee_No Title  Gender Marital_Status Date_Joined Date_Resigned  \\\n",
              "0            347    Mr    Male        Married  1993-12-08           NaT   \n",
              "1            348    Mr    Male        Married  1995-03-14           NaT   \n",
              "2            349    Mr    Male        Married  1988-01-27    2021-06-28   \n",
              "3            351    Ms  Female        Married  1999-10-01    2022-01-31   \n",
              "4            352    Mr    Male        Married  2001-01-26           NaT   \n",
              "..           ...   ...     ...            ...         ...           ...   \n",
              "992         2836    Ms  Female         Single  2022-11-01    2022-12-22   \n",
              "993         2890    Mr    Male         Single  2022-11-21           NaT   \n",
              "994         2972    Mr    Male         Single  2022-12-05           NaT   \n",
              "995         2973    Mr    Male         Single  2022-12-08           NaT   \n",
              "996         3041    Mr    Male        Married  2022-12-20           NaT   \n",
              "\n",
              "       Status Employment_Category Employment_Type  Religion  ... Late_minutes  \\\n",
              "0      Active               Staff       Permanant  Buddhist  ...    19.107082   \n",
              "1      Active               Staff       Permanant  Buddhist  ...    96.275944   \n",
              "2    Inactive               Staff       Permanant  Buddhist  ...    46.942271   \n",
              "3    Inactive               Staff       Permanant  Catholic  ...    14.105595   \n",
              "4      Active               Staff       Permanant  Buddhist  ...    39.973482   \n",
              "..        ...                 ...             ...       ...  ...          ...   \n",
              "992  Inactive               Staff  Contarct Basis  Buddhist  ...     5.849561   \n",
              "993    Active               Staff  Contarct Basis  Buddhist  ...    64.324797   \n",
              "994    Active               Staff  Contarct Basis  Buddhist  ...    23.227778   \n",
              "995    Active               Staff  Contarct Basis  Buddhist  ...    12.434848   \n",
              "996    Active          Management  Contarct Basis  Buddhist  ...    56.396667   \n",
              "\n",
              "     Type_Full Day  Type_Half Day  apply_type_Anual  apply_type_Casual  \\\n",
              "0             16.0            6.0              11.0               11.0   \n",
              "1              5.0            7.0               5.0                7.0   \n",
              "2              NaN            NaN               NaN                NaN   \n",
              "3              4.0            6.0               0.0               10.0   \n",
              "4              NaN            NaN               NaN                NaN   \n",
              "..             ...            ...               ...                ...   \n",
              "992            NaN            NaN               NaN                NaN   \n",
              "993            NaN            NaN               NaN                NaN   \n",
              "994            1.0            2.0               0.0                3.0   \n",
              "995            NaN            NaN               NaN                NaN   \n",
              "996            NaN            NaN               NaN                NaN   \n",
              "\n",
              "         Earnings  Total Fixed  Year_Joined  Resigned_Age  Worked_Duration  \n",
              "0    36717.818889      34500.0         1993           NaN              NaN  \n",
              "1    61777.027778      32300.0         1995           NaN              NaN  \n",
              "2             NaN          NaN         1988          47.0             33.0  \n",
              "3    50981.560000      49600.0         1999          48.0             23.0  \n",
              "4    37325.784118      27350.0         2001           NaN              NaN  \n",
              "..            ...          ...          ...           ...              ...  \n",
              "992  50000.000000      50000.0         2022          29.0              0.0  \n",
              "993  70000.000000      70000.0         2022           NaN              NaN  \n",
              "994  60000.000000      60000.0         2022           NaN              NaN  \n",
              "995  80000.000000      80000.0         2022           NaN              NaN  \n",
              "996  80000.000000      80000.0         2022           NaN              NaN  \n",
              "\n",
              "[997 rows x 23 columns]"
            ],
            "text/html": [
              "\n",
              "\n",
              "  <div id=\"df-786b3816-60d9-42fd-ae5b-ca75247bc7d8\">\n",
              "    <div class=\"colab-df-container\">\n",
              "      <div>\n",
              "<style scoped>\n",
              "    .dataframe tbody tr th:only-of-type {\n",
              "        vertical-align: middle;\n",
              "    }\n",
              "\n",
              "    .dataframe tbody tr th {\n",
              "        vertical-align: top;\n",
              "    }\n",
              "\n",
              "    .dataframe thead th {\n",
              "        text-align: right;\n",
              "    }\n",
              "</style>\n",
              "<table border=\"1\" class=\"dataframe\">\n",
              "  <thead>\n",
              "    <tr style=\"text-align: right;\">\n",
              "      <th></th>\n",
              "      <th>Employee_No</th>\n",
              "      <th>Title</th>\n",
              "      <th>Gender</th>\n",
              "      <th>Marital_Status</th>\n",
              "      <th>Date_Joined</th>\n",
              "      <th>Date_Resigned</th>\n",
              "      <th>Status</th>\n",
              "      <th>Employment_Category</th>\n",
              "      <th>Employment_Type</th>\n",
              "      <th>Religion</th>\n",
              "      <th>...</th>\n",
              "      <th>Late_minutes</th>\n",
              "      <th>Type_Full Day</th>\n",
              "      <th>Type_Half Day</th>\n",
              "      <th>apply_type_Anual</th>\n",
              "      <th>apply_type_Casual</th>\n",
              "      <th>Earnings</th>\n",
              "      <th>Total Fixed</th>\n",
              "      <th>Year_Joined</th>\n",
              "      <th>Resigned_Age</th>\n",
              "      <th>Worked_Duration</th>\n",
              "    </tr>\n",
              "  </thead>\n",
              "  <tbody>\n",
              "    <tr>\n",
              "      <th>0</th>\n",
              "      <td>347</td>\n",
              "      <td>Mr</td>\n",
              "      <td>Male</td>\n",
              "      <td>Married</td>\n",
              "      <td>1993-12-08</td>\n",
              "      <td>NaT</td>\n",
              "      <td>Active</td>\n",
              "      <td>Staff</td>\n",
              "      <td>Permanant</td>\n",
              "      <td>Buddhist</td>\n",
              "      <td>...</td>\n",
              "      <td>19.107082</td>\n",
              "      <td>16.0</td>\n",
              "      <td>6.0</td>\n",
              "      <td>11.0</td>\n",
              "      <td>11.0</td>\n",
              "      <td>36717.818889</td>\n",
              "      <td>34500.0</td>\n",
              "      <td>1993</td>\n",
              "      <td>NaN</td>\n",
              "      <td>NaN</td>\n",
              "    </tr>\n",
              "    <tr>\n",
              "      <th>1</th>\n",
              "      <td>348</td>\n",
              "      <td>Mr</td>\n",
              "      <td>Male</td>\n",
              "      <td>Married</td>\n",
              "      <td>1995-03-14</td>\n",
              "      <td>NaT</td>\n",
              "      <td>Active</td>\n",
              "      <td>Staff</td>\n",
              "      <td>Permanant</td>\n",
              "      <td>Buddhist</td>\n",
              "      <td>...</td>\n",
              "      <td>96.275944</td>\n",
              "      <td>5.0</td>\n",
              "      <td>7.0</td>\n",
              "      <td>5.0</td>\n",
              "      <td>7.0</td>\n",
              "      <td>61777.027778</td>\n",
              "      <td>32300.0</td>\n",
              "      <td>1995</td>\n",
              "      <td>NaN</td>\n",
              "      <td>NaN</td>\n",
              "    </tr>\n",
              "    <tr>\n",
              "      <th>2</th>\n",
              "      <td>349</td>\n",
              "      <td>Mr</td>\n",
              "      <td>Male</td>\n",
              "      <td>Married</td>\n",
              "      <td>1988-01-27</td>\n",
              "      <td>2021-06-28</td>\n",
              "      <td>Inactive</td>\n",
              "      <td>Staff</td>\n",
              "      <td>Permanant</td>\n",
              "      <td>Buddhist</td>\n",
              "      <td>...</td>\n",
              "      <td>46.942271</td>\n",
              "      <td>NaN</td>\n",
              "      <td>NaN</td>\n",
              "      <td>NaN</td>\n",
              "      <td>NaN</td>\n",
              "      <td>NaN</td>\n",
              "      <td>NaN</td>\n",
              "      <td>1988</td>\n",
              "      <td>47.0</td>\n",
              "      <td>33.0</td>\n",
              "    </tr>\n",
              "    <tr>\n",
              "      <th>3</th>\n",
              "      <td>351</td>\n",
              "      <td>Ms</td>\n",
              "      <td>Female</td>\n",
              "      <td>Married</td>\n",
              "      <td>1999-10-01</td>\n",
              "      <td>2022-01-31</td>\n",
              "      <td>Inactive</td>\n",
              "      <td>Staff</td>\n",
              "      <td>Permanant</td>\n",
              "      <td>Catholic</td>\n",
              "      <td>...</td>\n",
              "      <td>14.105595</td>\n",
              "      <td>4.0</td>\n",
              "      <td>6.0</td>\n",
              "      <td>0.0</td>\n",
              "      <td>10.0</td>\n",
              "      <td>50981.560000</td>\n",
              "      <td>49600.0</td>\n",
              "      <td>1999</td>\n",
              "      <td>48.0</td>\n",
              "      <td>23.0</td>\n",
              "    </tr>\n",
              "    <tr>\n",
              "      <th>4</th>\n",
              "      <td>352</td>\n",
              "      <td>Mr</td>\n",
              "      <td>Male</td>\n",
              "      <td>Married</td>\n",
              "      <td>2001-01-26</td>\n",
              "      <td>NaT</td>\n",
              "      <td>Active</td>\n",
              "      <td>Staff</td>\n",
              "      <td>Permanant</td>\n",
              "      <td>Buddhist</td>\n",
              "      <td>...</td>\n",
              "      <td>39.973482</td>\n",
              "      <td>NaN</td>\n",
              "      <td>NaN</td>\n",
              "      <td>NaN</td>\n",
              "      <td>NaN</td>\n",
              "      <td>37325.784118</td>\n",
              "      <td>27350.0</td>\n",
              "      <td>2001</td>\n",
              "      <td>NaN</td>\n",
              "      <td>NaN</td>\n",
              "    </tr>\n",
              "    <tr>\n",
              "      <th>...</th>\n",
              "      <td>...</td>\n",
              "      <td>...</td>\n",
              "      <td>...</td>\n",
              "      <td>...</td>\n",
              "      <td>...</td>\n",
              "      <td>...</td>\n",
              "      <td>...</td>\n",
              "      <td>...</td>\n",
              "      <td>...</td>\n",
              "      <td>...</td>\n",
              "      <td>...</td>\n",
              "      <td>...</td>\n",
              "      <td>...</td>\n",
              "      <td>...</td>\n",
              "      <td>...</td>\n",
              "      <td>...</td>\n",
              "      <td>...</td>\n",
              "      <td>...</td>\n",
              "      <td>...</td>\n",
              "      <td>...</td>\n",
              "      <td>...</td>\n",
              "    </tr>\n",
              "    <tr>\n",
              "      <th>992</th>\n",
              "      <td>2836</td>\n",
              "      <td>Ms</td>\n",
              "      <td>Female</td>\n",
              "      <td>Single</td>\n",
              "      <td>2022-11-01</td>\n",
              "      <td>2022-12-22</td>\n",
              "      <td>Inactive</td>\n",
              "      <td>Staff</td>\n",
              "      <td>Contarct Basis</td>\n",
              "      <td>Buddhist</td>\n",
              "      <td>...</td>\n",
              "      <td>5.849561</td>\n",
              "      <td>NaN</td>\n",
              "      <td>NaN</td>\n",
              "      <td>NaN</td>\n",
              "      <td>NaN</td>\n",
              "      <td>50000.000000</td>\n",
              "      <td>50000.0</td>\n",
              "      <td>2022</td>\n",
              "      <td>29.0</td>\n",
              "      <td>0.0</td>\n",
              "    </tr>\n",
              "    <tr>\n",
              "      <th>993</th>\n",
              "      <td>2890</td>\n",
              "      <td>Mr</td>\n",
              "      <td>Male</td>\n",
              "      <td>Single</td>\n",
              "      <td>2022-11-21</td>\n",
              "      <td>NaT</td>\n",
              "      <td>Active</td>\n",
              "      <td>Staff</td>\n",
              "      <td>Contarct Basis</td>\n",
              "      <td>Buddhist</td>\n",
              "      <td>...</td>\n",
              "      <td>64.324797</td>\n",
              "      <td>NaN</td>\n",
              "      <td>NaN</td>\n",
              "      <td>NaN</td>\n",
              "      <td>NaN</td>\n",
              "      <td>70000.000000</td>\n",
              "      <td>70000.0</td>\n",
              "      <td>2022</td>\n",
              "      <td>NaN</td>\n",
              "      <td>NaN</td>\n",
              "    </tr>\n",
              "    <tr>\n",
              "      <th>994</th>\n",
              "      <td>2972</td>\n",
              "      <td>Mr</td>\n",
              "      <td>Male</td>\n",
              "      <td>Single</td>\n",
              "      <td>2022-12-05</td>\n",
              "      <td>NaT</td>\n",
              "      <td>Active</td>\n",
              "      <td>Staff</td>\n",
              "      <td>Contarct Basis</td>\n",
              "      <td>Buddhist</td>\n",
              "      <td>...</td>\n",
              "      <td>23.227778</td>\n",
              "      <td>1.0</td>\n",
              "      <td>2.0</td>\n",
              "      <td>0.0</td>\n",
              "      <td>3.0</td>\n",
              "      <td>60000.000000</td>\n",
              "      <td>60000.0</td>\n",
              "      <td>2022</td>\n",
              "      <td>NaN</td>\n",
              "      <td>NaN</td>\n",
              "    </tr>\n",
              "    <tr>\n",
              "      <th>995</th>\n",
              "      <td>2973</td>\n",
              "      <td>Mr</td>\n",
              "      <td>Male</td>\n",
              "      <td>Single</td>\n",
              "      <td>2022-12-08</td>\n",
              "      <td>NaT</td>\n",
              "      <td>Active</td>\n",
              "      <td>Staff</td>\n",
              "      <td>Contarct Basis</td>\n",
              "      <td>Buddhist</td>\n",
              "      <td>...</td>\n",
              "      <td>12.434848</td>\n",
              "      <td>NaN</td>\n",
              "      <td>NaN</td>\n",
              "      <td>NaN</td>\n",
              "      <td>NaN</td>\n",
              "      <td>80000.000000</td>\n",
              "      <td>80000.0</td>\n",
              "      <td>2022</td>\n",
              "      <td>NaN</td>\n",
              "      <td>NaN</td>\n",
              "    </tr>\n",
              "    <tr>\n",
              "      <th>996</th>\n",
              "      <td>3041</td>\n",
              "      <td>Mr</td>\n",
              "      <td>Male</td>\n",
              "      <td>Married</td>\n",
              "      <td>2022-12-20</td>\n",
              "      <td>NaT</td>\n",
              "      <td>Active</td>\n",
              "      <td>Management</td>\n",
              "      <td>Contarct Basis</td>\n",
              "      <td>Buddhist</td>\n",
              "      <td>...</td>\n",
              "      <td>56.396667</td>\n",
              "      <td>NaN</td>\n",
              "      <td>NaN</td>\n",
              "      <td>NaN</td>\n",
              "      <td>NaN</td>\n",
              "      <td>80000.000000</td>\n",
              "      <td>80000.0</td>\n",
              "      <td>2022</td>\n",
              "      <td>NaN</td>\n",
              "      <td>NaN</td>\n",
              "    </tr>\n",
              "  </tbody>\n",
              "</table>\n",
              "<p>997 rows × 23 columns</p>\n",
              "</div>\n",
              "      <button class=\"colab-df-convert\" onclick=\"convertToInteractive('df-786b3816-60d9-42fd-ae5b-ca75247bc7d8')\"\n",
              "              title=\"Convert this dataframe to an interactive table.\"\n",
              "              style=\"display:none;\">\n",
              "\n",
              "  <svg xmlns=\"http://www.w3.org/2000/svg\" height=\"24px\"viewBox=\"0 0 24 24\"\n",
              "       width=\"24px\">\n",
              "    <path d=\"M0 0h24v24H0V0z\" fill=\"none\"/>\n",
              "    <path d=\"M18.56 5.44l.94 2.06.94-2.06 2.06-.94-2.06-.94-.94-2.06-.94 2.06-2.06.94zm-11 1L8.5 8.5l.94-2.06 2.06-.94-2.06-.94L8.5 2.5l-.94 2.06-2.06.94zm10 10l.94 2.06.94-2.06 2.06-.94-2.06-.94-.94-2.06-.94 2.06-2.06.94z\"/><path d=\"M17.41 7.96l-1.37-1.37c-.4-.4-.92-.59-1.43-.59-.52 0-1.04.2-1.43.59L10.3 9.45l-7.72 7.72c-.78.78-.78 2.05 0 2.83L4 21.41c.39.39.9.59 1.41.59.51 0 1.02-.2 1.41-.59l7.78-7.78 2.81-2.81c.8-.78.8-2.07 0-2.86zM5.41 20L4 18.59l7.72-7.72 1.47 1.35L5.41 20z\"/>\n",
              "  </svg>\n",
              "      </button>\n",
              "\n",
              "\n",
              "\n",
              "    <div id=\"df-44ff4fd3-9a43-4bc6-8eb7-c3f0560a6d5b\">\n",
              "      <button class=\"colab-df-quickchart\" onclick=\"quickchart('df-44ff4fd3-9a43-4bc6-8eb7-c3f0560a6d5b')\"\n",
              "              title=\"Suggest charts.\"\n",
              "              style=\"display:none;\">\n",
              "\n",
              "<svg xmlns=\"http://www.w3.org/2000/svg\" height=\"24px\"viewBox=\"0 0 24 24\"\n",
              "     width=\"24px\">\n",
              "    <g>\n",
              "        <path d=\"M19 3H5c-1.1 0-2 .9-2 2v14c0 1.1.9 2 2 2h14c1.1 0 2-.9 2-2V5c0-1.1-.9-2-2-2zM9 17H7v-7h2v7zm4 0h-2V7h2v10zm4 0h-2v-4h2v4z\"/>\n",
              "    </g>\n",
              "</svg>\n",
              "      </button>\n",
              "    </div>\n",
              "\n",
              "<style>\n",
              "  .colab-df-quickchart {\n",
              "    background-color: #E8F0FE;\n",
              "    border: none;\n",
              "    border-radius: 50%;\n",
              "    cursor: pointer;\n",
              "    display: none;\n",
              "    fill: #1967D2;\n",
              "    height: 32px;\n",
              "    padding: 0 0 0 0;\n",
              "    width: 32px;\n",
              "  }\n",
              "\n",
              "  .colab-df-quickchart:hover {\n",
              "    background-color: #E2EBFA;\n",
              "    box-shadow: 0px 1px 2px rgba(60, 64, 67, 0.3), 0px 1px 3px 1px rgba(60, 64, 67, 0.15);\n",
              "    fill: #174EA6;\n",
              "  }\n",
              "\n",
              "  [theme=dark] .colab-df-quickchart {\n",
              "    background-color: #3B4455;\n",
              "    fill: #D2E3FC;\n",
              "  }\n",
              "\n",
              "  [theme=dark] .colab-df-quickchart:hover {\n",
              "    background-color: #434B5C;\n",
              "    box-shadow: 0px 1px 3px 1px rgba(0, 0, 0, 0.15);\n",
              "    filter: drop-shadow(0px 1px 2px rgba(0, 0, 0, 0.3));\n",
              "    fill: #FFFFFF;\n",
              "  }\n",
              "</style>\n",
              "\n",
              "    <script>\n",
              "      async function quickchart(key) {\n",
              "        const containerElement = document.querySelector('#' + key);\n",
              "        const charts = await google.colab.kernel.invokeFunction(\n",
              "            'suggestCharts', [key], {});\n",
              "      }\n",
              "    </script>\n",
              "\n",
              "      <script>\n",
              "\n",
              "function displayQuickchartButton(domScope) {\n",
              "  let quickchartButtonEl =\n",
              "    domScope.querySelector('#df-44ff4fd3-9a43-4bc6-8eb7-c3f0560a6d5b button.colab-df-quickchart');\n",
              "  quickchartButtonEl.style.display =\n",
              "    google.colab.kernel.accessAllowed ? 'block' : 'none';\n",
              "}\n",
              "\n",
              "        displayQuickchartButton(document);\n",
              "      </script>\n",
              "      <style>\n",
              "    .colab-df-container {\n",
              "      display:flex;\n",
              "      flex-wrap:wrap;\n",
              "      gap: 12px;\n",
              "    }\n",
              "\n",
              "    .colab-df-convert {\n",
              "      background-color: #E8F0FE;\n",
              "      border: none;\n",
              "      border-radius: 50%;\n",
              "      cursor: pointer;\n",
              "      display: none;\n",
              "      fill: #1967D2;\n",
              "      height: 32px;\n",
              "      padding: 0 0 0 0;\n",
              "      width: 32px;\n",
              "    }\n",
              "\n",
              "    .colab-df-convert:hover {\n",
              "      background-color: #E2EBFA;\n",
              "      box-shadow: 0px 1px 2px rgba(60, 64, 67, 0.3), 0px 1px 3px 1px rgba(60, 64, 67, 0.15);\n",
              "      fill: #174EA6;\n",
              "    }\n",
              "\n",
              "    [theme=dark] .colab-df-convert {\n",
              "      background-color: #3B4455;\n",
              "      fill: #D2E3FC;\n",
              "    }\n",
              "\n",
              "    [theme=dark] .colab-df-convert:hover {\n",
              "      background-color: #434B5C;\n",
              "      box-shadow: 0px 1px 3px 1px rgba(0, 0, 0, 0.15);\n",
              "      filter: drop-shadow(0px 1px 2px rgba(0, 0, 0, 0.3));\n",
              "      fill: #FFFFFF;\n",
              "    }\n",
              "  </style>\n",
              "\n",
              "      <script>\n",
              "        const buttonEl =\n",
              "          document.querySelector('#df-786b3816-60d9-42fd-ae5b-ca75247bc7d8 button.colab-df-convert');\n",
              "        buttonEl.style.display =\n",
              "          google.colab.kernel.accessAllowed ? 'block' : 'none';\n",
              "\n",
              "        async function convertToInteractive(key) {\n",
              "          const element = document.querySelector('#df-786b3816-60d9-42fd-ae5b-ca75247bc7d8');\n",
              "          const dataTable =\n",
              "            await google.colab.kernel.invokeFunction('convertToInteractive',\n",
              "                                                     [key], {});\n",
              "          if (!dataTable) return;\n",
              "\n",
              "          const docLinkHtml = 'Like what you see? Visit the ' +\n",
              "            '<a target=\"_blank\" href=https://colab.research.google.com/notebooks/data_table.ipynb>data table notebook</a>'\n",
              "            + ' to learn more about interactive tables.';\n",
              "          element.innerHTML = '';\n",
              "          dataTable['output_type'] = 'display_data';\n",
              "          await google.colab.output.renderOutput(dataTable, element);\n",
              "          const docLink = document.createElement('div');\n",
              "          docLink.innerHTML = docLinkHtml;\n",
              "          element.appendChild(docLink);\n",
              "        }\n",
              "      </script>\n",
              "    </div>\n",
              "  </div>\n"
            ]
          },
          "metadata": {},
          "execution_count": 63
        }
      ]
    },
    {
      "cell_type": "code",
      "source": [
        "merged_df.to_csv('employee_preprocess_200635E.csv', index=False)"
      ],
      "metadata": {
        "id": "L7WSusNHXwBJ"
      },
      "execution_count": 64,
      "outputs": []
    }
  ]
}