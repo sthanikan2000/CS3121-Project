{
  "nbformat": 4,
  "nbformat_minor": 0,
  "metadata": {
    "colab": {
      "provenance": [],
      "authorship_tag": "ABX9TyMs0PtKa4YZKLUaKSW0kFb/",
      "include_colab_link": true
    },
    "kernelspec": {
      "name": "python3",
      "display_name": "Python 3"
    },
    "language_info": {
      "name": "python"
    }
  },
  "cells": [
    {
      "cell_type": "markdown",
      "metadata": {
        "id": "view-in-github",
        "colab_type": "text"
      },
      "source": [
        "<a href=\"https://colab.research.google.com/github/sthanikan2000/CS3121-Project/blob/main/DS_Proj_salary_preprocess.ipynb\" target=\"_parent\"><img src=\"https://colab.research.google.com/assets/colab-badge.svg\" alt=\"Open In Colab\"/></a>"
      ]
    },
    {
      "cell_type": "code",
      "execution_count": 1,
      "metadata": {
        "id": "-zNRS-pPjWnu"
      },
      "outputs": [],
      "source": [
        "import pandas as pd"
      ]
    },
    {
      "cell_type": "code",
      "source": [
        "df=pd.read_csv(\"salary.csv\")"
      ],
      "metadata": {
        "id": "Sp0YagWrji0P"
      },
      "execution_count": 2,
      "outputs": []
    },
    {
      "cell_type": "code",
      "source": [
        "df.shape"
      ],
      "metadata": {
        "colab": {
          "base_uri": "https://localhost:8080/"
        },
        "id": "lVeNc4GcobPM",
        "outputId": "76d1dcf9-3e40-42ec-9a25-27e64745ad0e"
      },
      "execution_count": 3,
      "outputs": [
        {
          "output_type": "execute_result",
          "data": {
            "text/plain": [
              "(9035, 109)"
            ]
          },
          "metadata": {},
          "execution_count": 3
        }
      ]
    },
    {
      "cell_type": "code",
      "source": [
        "df.drop_duplicates(inplace=True)\n",
        "df.shape"
      ],
      "metadata": {
        "colab": {
          "base_uri": "https://localhost:8080/"
        },
        "id": "7yJc_kp1olvq",
        "outputId": "789ecf10-97c5-4ade-8850-593e0a30636a"
      },
      "execution_count": 4,
      "outputs": [
        {
          "output_type": "execute_result",
          "data": {
            "text/plain": [
              "(9035, 109)"
            ]
          },
          "metadata": {},
          "execution_count": 4
        }
      ]
    },
    {
      "cell_type": "code",
      "source": [
        "df.isnull().sum()"
      ],
      "metadata": {
        "colab": {
          "base_uri": "https://localhost:8080/"
        },
        "id": "zb9GR8bgjxNb",
        "outputId": "55f516de-7102-437d-fa60-2a37964d0501"
      },
      "execution_count": 5,
      "outputs": [
        {
          "output_type": "execute_result",
          "data": {
            "text/plain": [
              "Employee_No                 0\n",
              "year                        0\n",
              "month                       0\n",
              "SiteNo                     45\n",
              "Area                        0\n",
              "                           ..\n",
              "WSL Total Earning           0\n",
              "WSL Total Working Days      0\n",
              "WSLOther Allowance Rate     0\n",
              "Working Days - Full         0\n",
              "Working Days - Half Day     0\n",
              "Length: 109, dtype: int64"
            ]
          },
          "metadata": {},
          "execution_count": 5
        }
      ]
    },
    {
      "cell_type": "code",
      "source": [
        "mask1=df[\"Total Earnings_2\"]!=0\n",
        "mask2=df[\"Total Earnings_0\"]!=0"
      ],
      "metadata": {
        "id": "rHD9FCgGmw6P"
      },
      "execution_count": 6,
      "outputs": []
    },
    {
      "cell_type": "code",
      "source": [
        "df[ mask1 & mask2]"
      ],
      "metadata": {
        "colab": {
          "base_uri": "https://localhost:8080/",
          "height": 212
        },
        "id": "RwHGE5Wsj2UG",
        "outputId": "126a169b-90f8-4ce9-8b86-c4b8fc4874ef"
      },
      "execution_count": 7,
      "outputs": [
        {
          "output_type": "execute_result",
          "data": {
            "text/plain": [
              "Empty DataFrame\n",
              "Columns: [Employee_No, year, month, SiteNo, Area, Accomadation Allowance, Accommodation Allowance, Add. Allow. No Pay Deduction, Additional Allowance_0, Additional Allowance_2, Allow - Extra Working Hours, Attendance Allowance Rate, Attendance Allowance_0, Attendance Allowance_2, BRA1, BRA1 Amount, BRA1WSL, BRA2, BRA2 Amount, BRA2WSL, Basic Day Rate, Basic Rate for EPF, Basic Rate_2, Basic Rate_3, Basic Salary for EPF, Basic Salary_0, Basic Salary_2, Basic per Day, EPF Employee 8%, EPF Employer 12%, EPF Staff No Pay Full Day, EPF Staff No Pay Half Day, EPF staff Halfdays, EPF staff full workdays, ETF Employer 3%, Ex Work Hours Allownace, Fixed Amount, Fixed OT Entitlement, Fixed OT Hours, Hard Ship Allowance Rate, Hard Ship Allowance_0, Hard Ship Allowance_2, Hard ship Allowance Rate, Leave Leave Full Day, Leave Leave Halfday, Lieu Leave, Meal Allowance, Month Day Count, Net Salary, No Pay, No Pay Days, No Pay Deduction, No Pay Rate, No of Full Worked Days, No of Half Days, OT (Type = 2), OT Amount 1.5_0, OT Amount 1.5_2, OT Hours, OT Rate, OT Rate 1.5, OT Rate 2, Other Allowance, Other Allowance Amount, Other Allowance Rate, Other Deduction, Payee Month, Per Day Rate Total, Performance Allowance, Performance Allowance Rate, Performance Allownace Fixed, Salary Advance, Salary Arrears_0, Salary Arrears_2, Site Fixed Allowance, Special Allowance, Special Task Allowance, Stamp Duty, Telephone Allowance, Telephone Deduction, Total Cost to the Company, Total Deduction, Total Earnings_0, Total Earnings_2, Total Fixed, Total V.Allowance, Total Working Days, Travelling Allowance, V. ALLW -Site, V. ALLW Rate -Site, V. Allow - Drivers Travel, V. Allow - Operator, V. Allowance Attendance, Vehicle Allownace, WSL Advance, WSL Basic, WSL Basic Salary, WSL Day Rate, WSL Net Salary, WSL No of Full Worked Days, ...]\n",
              "Index: []\n",
              "\n",
              "[0 rows x 109 columns]"
            ],
            "text/html": [
              "\n",
              "\n",
              "  <div id=\"df-44aea4dc-6af7-44a6-8c3b-1d1d03e8b224\">\n",
              "    <div class=\"colab-df-container\">\n",
              "      <div>\n",
              "<style scoped>\n",
              "    .dataframe tbody tr th:only-of-type {\n",
              "        vertical-align: middle;\n",
              "    }\n",
              "\n",
              "    .dataframe tbody tr th {\n",
              "        vertical-align: top;\n",
              "    }\n",
              "\n",
              "    .dataframe thead th {\n",
              "        text-align: right;\n",
              "    }\n",
              "</style>\n",
              "<table border=\"1\" class=\"dataframe\">\n",
              "  <thead>\n",
              "    <tr style=\"text-align: right;\">\n",
              "      <th></th>\n",
              "      <th>Employee_No</th>\n",
              "      <th>year</th>\n",
              "      <th>month</th>\n",
              "      <th>SiteNo</th>\n",
              "      <th>Area</th>\n",
              "      <th>Accomadation Allowance</th>\n",
              "      <th>Accommodation Allowance</th>\n",
              "      <th>Add. Allow. No Pay Deduction</th>\n",
              "      <th>Additional Allowance_0</th>\n",
              "      <th>Additional Allowance_2</th>\n",
              "      <th>...</th>\n",
              "      <th>WSL No of Full Worked Days</th>\n",
              "      <th>WSL No of Half Days</th>\n",
              "      <th>WSL OT 1.5</th>\n",
              "      <th>WSL OT Hours 1.5</th>\n",
              "      <th>WSL OT Rate</th>\n",
              "      <th>WSL Total Earning</th>\n",
              "      <th>WSL Total Working Days</th>\n",
              "      <th>WSLOther Allowance Rate</th>\n",
              "      <th>Working Days - Full</th>\n",
              "      <th>Working Days - Half Day</th>\n",
              "    </tr>\n",
              "  </thead>\n",
              "  <tbody>\n",
              "  </tbody>\n",
              "</table>\n",
              "<p>0 rows × 109 columns</p>\n",
              "</div>\n",
              "      <button class=\"colab-df-convert\" onclick=\"convertToInteractive('df-44aea4dc-6af7-44a6-8c3b-1d1d03e8b224')\"\n",
              "              title=\"Convert this dataframe to an interactive table.\"\n",
              "              style=\"display:none;\">\n",
              "\n",
              "  <svg xmlns=\"http://www.w3.org/2000/svg\" height=\"24px\"viewBox=\"0 0 24 24\"\n",
              "       width=\"24px\">\n",
              "    <path d=\"M0 0h24v24H0V0z\" fill=\"none\"/>\n",
              "    <path d=\"M18.56 5.44l.94 2.06.94-2.06 2.06-.94-2.06-.94-.94-2.06-.94 2.06-2.06.94zm-11 1L8.5 8.5l.94-2.06 2.06-.94-2.06-.94L8.5 2.5l-.94 2.06-2.06.94zm10 10l.94 2.06.94-2.06 2.06-.94-2.06-.94-.94-2.06-.94 2.06-2.06.94z\"/><path d=\"M17.41 7.96l-1.37-1.37c-.4-.4-.92-.59-1.43-.59-.52 0-1.04.2-1.43.59L10.3 9.45l-7.72 7.72c-.78.78-.78 2.05 0 2.83L4 21.41c.39.39.9.59 1.41.59.51 0 1.02-.2 1.41-.59l7.78-7.78 2.81-2.81c.8-.78.8-2.07 0-2.86zM5.41 20L4 18.59l7.72-7.72 1.47 1.35L5.41 20z\"/>\n",
              "  </svg>\n",
              "      </button>\n",
              "\n",
              "\n",
              "\n",
              "    <div id=\"df-5a1814d4-6e65-428c-9732-311568f1d47d\">\n",
              "      <button class=\"colab-df-quickchart\" onclick=\"quickchart('df-5a1814d4-6e65-428c-9732-311568f1d47d')\"\n",
              "              title=\"Suggest charts.\"\n",
              "              style=\"display:none;\">\n",
              "\n",
              "<svg xmlns=\"http://www.w3.org/2000/svg\" height=\"24px\"viewBox=\"0 0 24 24\"\n",
              "     width=\"24px\">\n",
              "    <g>\n",
              "        <path d=\"M19 3H5c-1.1 0-2 .9-2 2v14c0 1.1.9 2 2 2h14c1.1 0 2-.9 2-2V5c0-1.1-.9-2-2-2zM9 17H7v-7h2v7zm4 0h-2V7h2v10zm4 0h-2v-4h2v4z\"/>\n",
              "    </g>\n",
              "</svg>\n",
              "      </button>\n",
              "    </div>\n",
              "\n",
              "<style>\n",
              "  .colab-df-quickchart {\n",
              "    background-color: #E8F0FE;\n",
              "    border: none;\n",
              "    border-radius: 50%;\n",
              "    cursor: pointer;\n",
              "    display: none;\n",
              "    fill: #1967D2;\n",
              "    height: 32px;\n",
              "    padding: 0 0 0 0;\n",
              "    width: 32px;\n",
              "  }\n",
              "\n",
              "  .colab-df-quickchart:hover {\n",
              "    background-color: #E2EBFA;\n",
              "    box-shadow: 0px 1px 2px rgba(60, 64, 67, 0.3), 0px 1px 3px 1px rgba(60, 64, 67, 0.15);\n",
              "    fill: #174EA6;\n",
              "  }\n",
              "\n",
              "  [theme=dark] .colab-df-quickchart {\n",
              "    background-color: #3B4455;\n",
              "    fill: #D2E3FC;\n",
              "  }\n",
              "\n",
              "  [theme=dark] .colab-df-quickchart:hover {\n",
              "    background-color: #434B5C;\n",
              "    box-shadow: 0px 1px 3px 1px rgba(0, 0, 0, 0.15);\n",
              "    filter: drop-shadow(0px 1px 2px rgba(0, 0, 0, 0.3));\n",
              "    fill: #FFFFFF;\n",
              "  }\n",
              "</style>\n",
              "\n",
              "    <script>\n",
              "      async function quickchart(key) {\n",
              "        const containerElement = document.querySelector('#' + key);\n",
              "        const charts = await google.colab.kernel.invokeFunction(\n",
              "            'suggestCharts', [key], {});\n",
              "      }\n",
              "    </script>\n",
              "\n",
              "      <script>\n",
              "\n",
              "function displayQuickchartButton(domScope) {\n",
              "  let quickchartButtonEl =\n",
              "    domScope.querySelector('#df-5a1814d4-6e65-428c-9732-311568f1d47d button.colab-df-quickchart');\n",
              "  quickchartButtonEl.style.display =\n",
              "    google.colab.kernel.accessAllowed ? 'block' : 'none';\n",
              "}\n",
              "\n",
              "        displayQuickchartButton(document);\n",
              "      </script>\n",
              "      <style>\n",
              "    .colab-df-container {\n",
              "      display:flex;\n",
              "      flex-wrap:wrap;\n",
              "      gap: 12px;\n",
              "    }\n",
              "\n",
              "    .colab-df-convert {\n",
              "      background-color: #E8F0FE;\n",
              "      border: none;\n",
              "      border-radius: 50%;\n",
              "      cursor: pointer;\n",
              "      display: none;\n",
              "      fill: #1967D2;\n",
              "      height: 32px;\n",
              "      padding: 0 0 0 0;\n",
              "      width: 32px;\n",
              "    }\n",
              "\n",
              "    .colab-df-convert:hover {\n",
              "      background-color: #E2EBFA;\n",
              "      box-shadow: 0px 1px 2px rgba(60, 64, 67, 0.3), 0px 1px 3px 1px rgba(60, 64, 67, 0.15);\n",
              "      fill: #174EA6;\n",
              "    }\n",
              "\n",
              "    [theme=dark] .colab-df-convert {\n",
              "      background-color: #3B4455;\n",
              "      fill: #D2E3FC;\n",
              "    }\n",
              "\n",
              "    [theme=dark] .colab-df-convert:hover {\n",
              "      background-color: #434B5C;\n",
              "      box-shadow: 0px 1px 3px 1px rgba(0, 0, 0, 0.15);\n",
              "      filter: drop-shadow(0px 1px 2px rgba(0, 0, 0, 0.3));\n",
              "      fill: #FFFFFF;\n",
              "    }\n",
              "  </style>\n",
              "\n",
              "      <script>\n",
              "        const buttonEl =\n",
              "          document.querySelector('#df-44aea4dc-6af7-44a6-8c3b-1d1d03e8b224 button.colab-df-convert');\n",
              "        buttonEl.style.display =\n",
              "          google.colab.kernel.accessAllowed ? 'block' : 'none';\n",
              "\n",
              "        async function convertToInteractive(key) {\n",
              "          const element = document.querySelector('#df-44aea4dc-6af7-44a6-8c3b-1d1d03e8b224');\n",
              "          const dataTable =\n",
              "            await google.colab.kernel.invokeFunction('convertToInteractive',\n",
              "                                                     [key], {});\n",
              "          if (!dataTable) return;\n",
              "\n",
              "          const docLinkHtml = 'Like what you see? Visit the ' +\n",
              "            '<a target=\"_blank\" href=https://colab.research.google.com/notebooks/data_table.ipynb>data table notebook</a>'\n",
              "            + ' to learn more about interactive tables.';\n",
              "          element.innerHTML = '';\n",
              "          dataTable['output_type'] = 'display_data';\n",
              "          await google.colab.output.renderOutput(dataTable, element);\n",
              "          const docLink = document.createElement('div');\n",
              "          docLink.innerHTML = docLinkHtml;\n",
              "          element.appendChild(docLink);\n",
              "        }\n",
              "      </script>\n",
              "    </div>\n",
              "  </div>\n"
            ]
          },
          "metadata": {},
          "execution_count": 7
        }
      ]
    },
    {
      "cell_type": "code",
      "source": [
        "df[\"Earnings\"]=df[\"Total Earnings_2\"]+df[\"Total Earnings_0\"]\n",
        "df=df[[\"Employee_No\",\"Earnings\",\"Total Fixed\"]].copy()"
      ],
      "metadata": {
        "id": "W56yQ4c2mlag"
      },
      "execution_count": 8,
      "outputs": []
    },
    {
      "cell_type": "code",
      "source": [
        "df.info()"
      ],
      "metadata": {
        "colab": {
          "base_uri": "https://localhost:8080/"
        },
        "id": "CDLVuLlHnWSx",
        "outputId": "d5de60e2-5f6d-427b-a2ea-3722ac613b84"
      },
      "execution_count": 9,
      "outputs": [
        {
          "output_type": "stream",
          "name": "stdout",
          "text": [
            "<class 'pandas.core.frame.DataFrame'>\n",
            "Int64Index: 9035 entries, 0 to 9034\n",
            "Data columns (total 3 columns):\n",
            " #   Column       Non-Null Count  Dtype  \n",
            "---  ------       --------------  -----  \n",
            " 0   Employee_No  9035 non-null   int64  \n",
            " 1   Earnings     9035 non-null   float64\n",
            " 2   Total Fixed  9035 non-null   float64\n",
            "dtypes: float64(2), int64(1)\n",
            "memory usage: 282.3 KB\n"
          ]
        }
      ]
    },
    {
      "cell_type": "code",
      "source": [
        "grouped=df.groupby(['Employee_No']).mean()"
      ],
      "metadata": {
        "id": "nL8ruiSppuKF"
      },
      "execution_count": 10,
      "outputs": []
    },
    {
      "cell_type": "code",
      "source": [
        "grouped.to_csv(\"salary_preprocessed_200635E.csv\",index=True)"
      ],
      "metadata": {
        "id": "fbhqsUrQnYgb"
      },
      "execution_count": 11,
      "outputs": []
    }
  ]
}